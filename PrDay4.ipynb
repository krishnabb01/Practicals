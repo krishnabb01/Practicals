{
 "cells": [
  {
   "cell_type": "code",
   "execution_count": 1,
   "id": "c528cbdb",
   "metadata": {},
   "outputs": [],
   "source": [
    "# Dictionary "
   ]
  },
  {
   "cell_type": "code",
   "execution_count": 2,
   "id": "e6a95772",
   "metadata": {},
   "outputs": [],
   "source": [
    "d = {}"
   ]
  },
  {
   "cell_type": "code",
   "execution_count": 3,
   "id": "ac8f4ba9",
   "metadata": {},
   "outputs": [
    {
     "data": {
      "text/plain": [
       "dict"
      ]
     },
     "execution_count": 3,
     "metadata": {},
     "output_type": "execute_result"
    }
   ],
   "source": [
    "type(d)"
   ]
  },
  {
   "cell_type": "code",
   "execution_count": 4,
   "id": "e355a618",
   "metadata": {},
   "outputs": [
    {
     "data": {
      "text/plain": [
       "{'name': 'Krishna', 'email_id': 'krishna@gmail.com', 'marks': 89}"
      ]
     },
     "execution_count": 4,
     "metadata": {},
     "output_type": "execute_result"
    }
   ],
   "source": [
    "d1 = {\"name\" : \"Krishna\",\n",
    "      \"email_id\": \"krishna@gmail.com\",\n",
    "      \"marks\" : 89}\n",
    "d1"
   ]
  },
  {
   "cell_type": "code",
   "execution_count": 5,
   "id": "1d934600",
   "metadata": {},
   "outputs": [
    {
     "data": {
      "text/plain": [
       "dict"
      ]
     },
     "execution_count": 5,
     "metadata": {},
     "output_type": "execute_result"
    }
   ],
   "source": [
    "type(d1)"
   ]
  },
  {
   "cell_type": "code",
   "execution_count": 6,
   "id": "ff8cb064",
   "metadata": {},
   "outputs": [
    {
     "data": {
      "text/plain": [
       "{'name': 'krishna'}"
      ]
     },
     "execution_count": 6,
     "metadata": {},
     "output_type": "execute_result"
    }
   ],
   "source": [
    "d2 = {\"name\" : \"Krisna\", \"name\" : \"krishna\"}\n",
    "d2"
   ]
  },
  {
   "cell_type": "code",
   "execution_count": 7,
   "id": "83db63fc",
   "metadata": {},
   "outputs": [
    {
     "data": {
      "text/plain": [
       "{1234: 'abcd'}"
      ]
     },
     "execution_count": 7,
     "metadata": {},
     "output_type": "execute_result"
    }
   ],
   "source": [
    "d3 = {1234 : \"abcd\"}\n",
    "d3"
   ]
  },
  {
   "cell_type": "code",
   "execution_count": 8,
   "id": "e73af046",
   "metadata": {},
   "outputs": [
    {
     "data": {
      "text/plain": [
       "{234.56: 'qwer'}"
      ]
     },
     "execution_count": 8,
     "metadata": {},
     "output_type": "execute_result"
    }
   ],
   "source": [
    "d4 = {234.56 : \"qwer\"}\n",
    "d4"
   ]
  },
  {
   "cell_type": "code",
   "execution_count": 9,
   "id": "f4799daf",
   "metadata": {},
   "outputs": [
    {
     "data": {
      "text/plain": [
       "{True: 1}"
      ]
     },
     "execution_count": 9,
     "metadata": {},
     "output_type": "execute_result"
    }
   ],
   "source": [
    "d5 = {True : 1}\n",
    "d5"
   ]
  },
  {
   "cell_type": "code",
   "execution_count": 10,
   "id": "bd1155cd",
   "metadata": {},
   "outputs": [
    {
     "data": {
      "text/plain": [
       "{'#': 'Krishna'}"
      ]
     },
     "execution_count": 10,
     "metadata": {},
     "output_type": "execute_result"
    }
   ],
   "source": [
    "d6 = {\"#\" : \"Krishna\"}\n",
    "d6"
   ]
  },
  {
   "cell_type": "code",
   "execution_count": 11,
   "id": "289cc2d1",
   "metadata": {},
   "outputs": [
    {
     "ename": "SyntaxError",
     "evalue": "invalid syntax (247784235.py, line 1)",
     "output_type": "error",
     "traceback": [
      "\u001b[1;36m  Cell \u001b[1;32mIn[11], line 1\u001b[1;36m\u001b[0m\n\u001b[1;33m    d7 = {@ : \"abd\"}\u001b[0m\n\u001b[1;37m          ^\u001b[0m\n\u001b[1;31mSyntaxError\u001b[0m\u001b[1;31m:\u001b[0m invalid syntax\n"
     ]
    }
   ],
   "source": [
    "d7 = {@ : \"abd\"}"
   ]
  },
  {
   "cell_type": "code",
   "execution_count": 12,
   "id": "eef4c912",
   "metadata": {},
   "outputs": [
    {
     "ename": "TypeError",
     "evalue": "unhashable type: 'list'",
     "output_type": "error",
     "traceback": [
      "\u001b[1;31m---------------------------------------------------------------------------\u001b[0m",
      "\u001b[1;31mTypeError\u001b[0m                                 Traceback (most recent call last)",
      "Cell \u001b[1;32mIn[12], line 1\u001b[0m\n\u001b[1;32m----> 1\u001b[0m d8 \u001b[38;5;241m=\u001b[39m {[\u001b[38;5;241m1\u001b[39m,\u001b[38;5;241m2\u001b[39m,\u001b[38;5;241m3\u001b[39m] : \u001b[38;5;124m\"\u001b[39m\u001b[38;5;124masd\u001b[39m\u001b[38;5;124m\"\u001b[39m}\n",
      "\u001b[1;31mTypeError\u001b[0m: unhashable type: 'list'"
     ]
    }
   ],
   "source": [
    "d8 = {[1,2,3] : \"asd\"}"
   ]
  },
  {
   "cell_type": "code",
   "execution_count": 13,
   "id": "019e2ea9",
   "metadata": {},
   "outputs": [
    {
     "data": {
      "text/plain": [
       "{(1, 2, 2): 30}"
      ]
     },
     "execution_count": 13,
     "metadata": {},
     "output_type": "execute_result"
    }
   ],
   "source": [
    "d9 = {(1,2,2) : 30}\n",
    "d9"
   ]
  },
  {
   "cell_type": "code",
   "execution_count": 14,
   "id": "b5190e21",
   "metadata": {},
   "outputs": [
    {
     "ename": "TypeError",
     "evalue": "unhashable type: 'set'",
     "output_type": "error",
     "traceback": [
      "\u001b[1;31m---------------------------------------------------------------------------\u001b[0m",
      "\u001b[1;31mTypeError\u001b[0m                                 Traceback (most recent call last)",
      "Cell \u001b[1;32mIn[14], line 1\u001b[0m\n\u001b[1;32m----> 1\u001b[0m d10 \u001b[38;5;241m=\u001b[39m {{\u001b[38;5;241m1\u001b[39m,\u001b[38;5;241m5\u001b[39m,\u001b[38;5;241m9\u001b[39m} : \u001b[38;5;124m\"\u001b[39m\u001b[38;5;124msdf\u001b[39m\u001b[38;5;124m\"\u001b[39m}\n",
      "\u001b[1;31mTypeError\u001b[0m: unhashable type: 'set'"
     ]
    }
   ],
   "source": [
    "d10 = {{1,5,9} : \"sdf\"}"
   ]
  },
  {
   "cell_type": "code",
   "execution_count": 15,
   "id": "6d9f784d",
   "metadata": {},
   "outputs": [
    {
     "ename": "TypeError",
     "evalue": "unhashable type: 'dict'",
     "output_type": "error",
     "traceback": [
      "\u001b[1;31m---------------------------------------------------------------------------\u001b[0m",
      "\u001b[1;31mTypeError\u001b[0m                                 Traceback (most recent call last)",
      "Cell \u001b[1;32mIn[15], line 1\u001b[0m\n\u001b[1;32m----> 1\u001b[0m d11 \u001b[38;5;241m=\u001b[39m {{\u001b[38;5;124m\"\u001b[39m\u001b[38;5;124mabv\u001b[39m\u001b[38;5;124m\"\u001b[39m : \u001b[38;5;124m\"\u001b[39m\u001b[38;5;124mvalue\u001b[39m\u001b[38;5;124m\"\u001b[39m } : \u001b[38;5;124m\"\u001b[39m\u001b[38;5;124masdf\u001b[39m\u001b[38;5;124m\"\u001b[39m}\n",
      "\u001b[1;31mTypeError\u001b[0m: unhashable type: 'dict'"
     ]
    }
   ],
   "source": [
    "d11 = {{\"abv\" : \"value\" } : \"asdf\"}"
   ]
  },
  {
   "cell_type": "code",
   "execution_count": 16,
   "id": "ff349fad",
   "metadata": {},
   "outputs": [
    {
     "data": {
      "text/plain": [
       "{'course_name': ['Data Sience', 'Web Dev', 'Java with DSA']}"
      ]
     },
     "execution_count": 16,
     "metadata": {},
     "output_type": "execute_result"
    }
   ],
   "source": [
    "d12 = {\"course_name\" :[\"Data Sience\",\"Web Dev\",\"Java with DSA\"]}\n",
    "d12"
   ]
  },
  {
   "cell_type": "code",
   "execution_count": 17,
   "id": "5174a59f",
   "metadata": {},
   "outputs": [
    {
     "data": {
      "text/plain": [
       "{'key': {1, 2, 3}}"
      ]
     },
     "execution_count": 17,
     "metadata": {},
     "output_type": "execute_result"
    }
   ],
   "source": [
    "d13 = {\"key\": {1,2,3}}\n",
    "d13"
   ]
  },
  {
   "cell_type": "code",
   "execution_count": 18,
   "id": "11afefe4",
   "metadata": {},
   "outputs": [
    {
     "data": {
      "text/plain": [
       "{'abv': (4, 56, 6)}"
      ]
     },
     "execution_count": 18,
     "metadata": {},
     "output_type": "execute_result"
    }
   ],
   "source": [
    "d14 = {\"abv\" : (4,56,6)}\n",
    "d14"
   ]
  },
  {
   "cell_type": "code",
   "execution_count": 19,
   "id": "d9a84739",
   "metadata": {},
   "outputs": [
    {
     "data": {
      "text/plain": [
       "{'key': {'name': 'Krishna', 'Class': 'DSM'}}"
      ]
     },
     "execution_count": 19,
     "metadata": {},
     "output_type": "execute_result"
    }
   ],
   "source": [
    "d15 = {\"key\" : {\"name\" : \"Krishna\", \"Class\" : \"DSM\"}}\n",
    "d15"
   ]
  },
  {
   "cell_type": "code",
   "execution_count": 20,
   "id": "549ba8a2",
   "metadata": {},
   "outputs": [
    {
     "data": {
      "text/plain": [
       "{'batch_name': ['Data Science master', 'web dev', 'JDS'],\n",
       " 'start_date': (21, 19, 23),\n",
       " 'Mentor_name': {'Krish naik', 'avinash Chauhan'}}"
      ]
     },
     "execution_count": 20,
     "metadata": {},
     "output_type": "execute_result"
    }
   ],
   "source": [
    "d16 = {\"batch_name\" : [\"Data Science master\", \"web dev\",\"JDS\"],\"start_date\" : (21,19,23),\"Mentor_name\" : {\"Krish naik\",\"avinash Chauhan\"}}\n",
    "d16"
   ]
  },
  {
   "cell_type": "code",
   "execution_count": 21,
   "id": "744b79a3",
   "metadata": {},
   "outputs": [],
   "source": [
    "d16[\"name\"] = \"Krishna\""
   ]
  },
  {
   "cell_type": "code",
   "execution_count": 22,
   "id": "71f3c78a",
   "metadata": {},
   "outputs": [
    {
     "data": {
      "text/plain": [
       "{'batch_name': ['Data Science master', 'web dev', 'JDS'],\n",
       " 'start_date': (21, 19, 23),\n",
       " 'Mentor_name': {'Krish naik', 'avinash Chauhan'},\n",
       " 'name': 'Krishna'}"
      ]
     },
     "execution_count": 22,
     "metadata": {},
     "output_type": "execute_result"
    }
   ],
   "source": [
    "d16"
   ]
  },
  {
   "cell_type": "code",
   "execution_count": 23,
   "id": "67cbbf87",
   "metadata": {},
   "outputs": [
    {
     "data": {
      "text/plain": [
       "dict_keys(['batch_name', 'start_date', 'Mentor_name', 'name'])"
      ]
     },
     "execution_count": 23,
     "metadata": {},
     "output_type": "execute_result"
    }
   ],
   "source": [
    "d16.keys()"
   ]
  },
  {
   "cell_type": "code",
   "execution_count": 24,
   "id": "27809c65",
   "metadata": {},
   "outputs": [
    {
     "data": {
      "text/plain": [
       "dict_values([['Data Science master', 'web dev', 'JDS'], (21, 19, 23), {'Krish naik', 'avinash Chauhan'}, 'Krishna'])"
      ]
     },
     "execution_count": 24,
     "metadata": {},
     "output_type": "execute_result"
    }
   ],
   "source": [
    "d16.values()"
   ]
  },
  {
   "cell_type": "code",
   "execution_count": 25,
   "id": "7b86a51a",
   "metadata": {},
   "outputs": [
    {
     "data": {
      "text/plain": [
       "[['Data Science master', 'web dev', 'JDS'],\n",
       " (21, 19, 23),\n",
       " {'Krish naik', 'avinash Chauhan'},\n",
       " 'Krishna']"
      ]
     },
     "execution_count": 25,
     "metadata": {},
     "output_type": "execute_result"
    }
   ],
   "source": [
    "list(d16.values())"
   ]
  },
  {
   "cell_type": "code",
   "execution_count": 26,
   "id": "acca91a6",
   "metadata": {},
   "outputs": [
    {
     "data": {
      "text/plain": [
       "[('batch_name', ['Data Science master', 'web dev', 'JDS']),\n",
       " ('start_date', (21, 19, 23)),\n",
       " ('Mentor_name', {'Krish naik', 'avinash Chauhan'}),\n",
       " ('name', 'Krishna')]"
      ]
     },
     "execution_count": 26,
     "metadata": {},
     "output_type": "execute_result"
    }
   ],
   "source": [
    "list(d16.items())"
   ]
  },
  {
   "cell_type": "code",
   "execution_count": 27,
   "id": "4a3e9157",
   "metadata": {},
   "outputs": [
    {
     "data": {
      "text/plain": [
       "{'batch_name': ['Data Science master', 'web dev', 'JDS'],\n",
       " 'start_date': (21, 19, 23),\n",
       " 'Mentor_name': {'Krish naik', 'avinash Chauhan'},\n",
       " 'name': 'Krishna'}"
      ]
     },
     "execution_count": 27,
     "metadata": {},
     "output_type": "execute_result"
    }
   ],
   "source": [
    "d17 = d16.copy()\n",
    "d17"
   ]
  },
  {
   "cell_type": "code",
   "execution_count": 28,
   "id": "92752922",
   "metadata": {},
   "outputs": [],
   "source": [
    "del d17[\"name\"]"
   ]
  },
  {
   "cell_type": "code",
   "execution_count": 29,
   "id": "6493778f",
   "metadata": {},
   "outputs": [
    {
     "data": {
      "text/plain": [
       "{'batch_name': ['Data Science master', 'web dev', 'JDS'],\n",
       " 'start_date': (21, 19, 23),\n",
       " 'Mentor_name': {'Krish naik', 'avinash Chauhan'},\n",
       " 'name': 'Krishna'}"
      ]
     },
     "execution_count": 29,
     "metadata": {},
     "output_type": "execute_result"
    }
   ],
   "source": [
    "d16"
   ]
  },
  {
   "cell_type": "code",
   "execution_count": 30,
   "id": "48296bb4",
   "metadata": {},
   "outputs": [
    {
     "data": {
      "text/plain": [
       "{'batch_name': ['Data Science master', 'web dev', 'JDS'],\n",
       " 'start_date': (21, 19, 23),\n",
       " 'Mentor_name': {'Krish naik', 'avinash Chauhan'}}"
      ]
     },
     "execution_count": 30,
     "metadata": {},
     "output_type": "execute_result"
    }
   ],
   "source": [
    "d17"
   ]
  },
  {
   "cell_type": "code",
   "execution_count": 31,
   "id": "138d03c5",
   "metadata": {},
   "outputs": [
    {
     "data": {
      "text/plain": [
       "{'batch_name': ['Data Science master', 'web dev', 'JDS'],\n",
       " 'start_date': (21, 19, 23),\n",
       " 'Mentor_name': {'Krish naik', 'avinash Chauhan'},\n",
       " 'name': 'Krishna'}"
      ]
     },
     "execution_count": 31,
     "metadata": {},
     "output_type": "execute_result"
    }
   ],
   "source": [
    "d18 = d16\n",
    "d18"
   ]
  },
  {
   "cell_type": "code",
   "execution_count": 32,
   "id": "df492775",
   "metadata": {},
   "outputs": [
    {
     "data": {
      "text/plain": [
       "(21, 19, 23)"
      ]
     },
     "execution_count": 32,
     "metadata": {},
     "output_type": "execute_result"
    }
   ],
   "source": [
    "d18.pop(\"start_date\")"
   ]
  },
  {
   "cell_type": "code",
   "execution_count": 33,
   "id": "5177707d",
   "metadata": {},
   "outputs": [
    {
     "data": {
      "text/plain": [
       "{'batch_name': ['Data Science master', 'web dev', 'JDS'],\n",
       " 'Mentor_name': {'Krish naik', 'avinash Chauhan'},\n",
       " 'name': 'Krishna'}"
      ]
     },
     "execution_count": 33,
     "metadata": {},
     "output_type": "execute_result"
    }
   ],
   "source": [
    "d16"
   ]
  },
  {
   "cell_type": "code",
   "execution_count": 34,
   "id": "e07d8cc5",
   "metadata": {},
   "outputs": [
    {
     "data": {
      "text/plain": [
       "{1: ('q', 'w', 'e'), 2: ('q', 'w', 'e'), 3: ('q', 'w', 'e')}"
      ]
     },
     "execution_count": 34,
     "metadata": {},
     "output_type": "execute_result"
    }
   ],
   "source": [
    "d.fromkeys((1,2,3),('q','w','e'))"
   ]
  },
  {
   "cell_type": "code",
   "execution_count": 35,
   "id": "96ea406c",
   "metadata": {},
   "outputs": [],
   "source": [
    "d19 = {\"key1\":\"value1\",\"key2\":\"value2\"}\n",
    "d20 = {\"key3\":\"value3\",\"key4\":\"value4\"}"
   ]
  },
  {
   "cell_type": "code",
   "execution_count": 36,
   "id": "373e2b17",
   "metadata": {},
   "outputs": [
    {
     "data": {
      "text/plain": [
       "({'key1': 'value1', 'key2': 'value2'}, {'key3': 'value3', 'key4': 'value4'})"
      ]
     },
     "execution_count": 36,
     "metadata": {},
     "output_type": "execute_result"
    }
   ],
   "source": [
    "(d19,d20)"
   ]
  },
  {
   "cell_type": "code",
   "execution_count": 37,
   "id": "88025beb",
   "metadata": {},
   "outputs": [],
   "source": [
    "d19.update(d20)"
   ]
  },
  {
   "cell_type": "code",
   "execution_count": 38,
   "id": "a64124d5",
   "metadata": {},
   "outputs": [
    {
     "data": {
      "text/plain": [
       "{'key1': 'value1', 'key2': 'value2', 'key3': 'value3', 'key4': 'value4'}"
      ]
     },
     "execution_count": 38,
     "metadata": {},
     "output_type": "execute_result"
    }
   ],
   "source": [
    "d19"
   ]
  },
  {
   "cell_type": "code",
   "execution_count": 39,
   "id": "7b086c3e",
   "metadata": {},
   "outputs": [
    {
     "ename": "KeyError",
     "evalue": "'key'",
     "output_type": "error",
     "traceback": [
      "\u001b[1;31m---------------------------------------------------------------------------\u001b[0m",
      "\u001b[1;31mKeyError\u001b[0m                                  Traceback (most recent call last)",
      "Cell \u001b[1;32mIn[39], line 1\u001b[0m\n\u001b[1;32m----> 1\u001b[0m d19[\u001b[38;5;124m\"\u001b[39m\u001b[38;5;124mkey\u001b[39m\u001b[38;5;124m\"\u001b[39m]\n",
      "\u001b[1;31mKeyError\u001b[0m: 'key'"
     ]
    }
   ],
   "source": [
    "d19[\"key\"]"
   ]
  },
  {
   "cell_type": "code",
   "execution_count": 40,
   "id": "dc26f41b",
   "metadata": {},
   "outputs": [],
   "source": [
    "d19.get(\"key\")"
   ]
  },
  {
   "cell_type": "code",
   "execution_count": 41,
   "id": "a9b252f0",
   "metadata": {},
   "outputs": [
    {
     "data": {
      "text/plain": [
       "'value1'"
      ]
     },
     "execution_count": 41,
     "metadata": {},
     "output_type": "execute_result"
    }
   ],
   "source": [
    "d19.get(\"key1\")"
   ]
  },
  {
   "cell_type": "code",
   "execution_count": 42,
   "id": "61d86e9f",
   "metadata": {},
   "outputs": [],
   "source": [
    "# Dictionary Comprehensions"
   ]
  },
  {
   "cell_type": "code",
   "execution_count": 43,
   "id": "b1344a04",
   "metadata": {},
   "outputs": [
    {
     "data": {
      "text/plain": [
       "{1: 1, 2: 4, 3: 9, 4: 16, 5: 25, 6: 36, 7: 49, 8: 64, 9: 81}"
      ]
     },
     "execution_count": 43,
     "metadata": {},
     "output_type": "execute_result"
    }
   ],
   "source": [
    "sqr = {i: i ** 2 for i in range(1,10)}\n",
    "sqr"
   ]
  },
  {
   "cell_type": "code",
   "execution_count": 44,
   "id": "c5b3e845",
   "metadata": {},
   "outputs": [
    {
     "data": {
      "text/plain": [
       "dict"
      ]
     },
     "execution_count": 44,
     "metadata": {},
     "output_type": "execute_result"
    }
   ],
   "source": [
    "type(sqr)"
   ]
  },
  {
   "cell_type": "code",
   "execution_count": 45,
   "id": "e41ccb59",
   "metadata": {},
   "outputs": [
    {
     "data": {
      "text/plain": [
       "[1, 2, 3, 4, 5, 6, 7, 8, 9]"
      ]
     },
     "execution_count": 45,
     "metadata": {},
     "output_type": "execute_result"
    }
   ],
   "source": [
    "list(range(1,10))"
   ]
  },
  {
   "cell_type": "code",
   "execution_count": 46,
   "id": "d7ef4af5",
   "metadata": {},
   "outputs": [
    {
     "data": {
      "text/plain": [
       "{1: 11, 2: 12, 3: 13, 4: 14, 5: 15, 6: 16, 7: 17, 8: 18, 9: 19}"
      ]
     },
     "execution_count": 46,
     "metadata": {},
     "output_type": "execute_result"
    }
   ],
   "source": [
    "{i : i+10 for i in range(1,10)}"
   ]
  },
  {
   "cell_type": "code",
   "execution_count": 47,
   "id": "f3506a87",
   "metadata": {},
   "outputs": [
    {
     "data": {
      "text/plain": [
       "{1: 0.0,\n",
       " 2: 0.3010299956639812,\n",
       " 3: 0.47712125471966244,\n",
       " 4: 0.6020599913279624,\n",
       " 5: 0.6989700043360189,\n",
       " 6: 0.7781512503836436,\n",
       " 7: 0.8450980400142568,\n",
       " 8: 0.9030899869919435,\n",
       " 9: 0.9542425094393249,\n",
       " 10: 1.0}"
      ]
     },
     "execution_count": 47,
     "metadata": {},
     "output_type": "execute_result"
    }
   ],
   "source": [
    "import math\n",
    "d21 = {i : math.log10(i) for i in range(1,11)}\n",
    "d21"
   ]
  },
  {
   "cell_type": "code",
   "execution_count": 48,
   "id": "df0c6340",
   "metadata": {},
   "outputs": [
    {
     "data": {
      "text/plain": [
       "True"
      ]
     },
     "execution_count": 48,
     "metadata": {},
     "output_type": "execute_result"
    }
   ],
   "source": [
    "\"start_date\" in d17"
   ]
  },
  {
   "cell_type": "code",
   "execution_count": 49,
   "id": "d17ab64a",
   "metadata": {},
   "outputs": [
    {
     "data": {
      "text/plain": [
       "dict_keys([1, 2, 3, 4, 5, 6, 7, 8, 9, 10])"
      ]
     },
     "execution_count": 49,
     "metadata": {},
     "output_type": "execute_result"
    }
   ],
   "source": [
    "d21.keys()"
   ]
  },
  {
   "cell_type": "code",
   "execution_count": 50,
   "id": "81a90791",
   "metadata": {},
   "outputs": [
    {
     "name": "stdout",
     "output_type": "stream",
     "text": [
      "0.3010299956639812\n",
      "0.6020599913279624\n",
      "0.7781512503836436\n",
      "0.9030899869919435\n",
      "1.0\n"
     ]
    }
   ],
   "source": [
    "for i in d21.keys():\n",
    "    if i%2 == 0:\n",
    "        print(d21[i])"
   ]
  },
  {
   "cell_type": "code",
   "execution_count": 51,
   "id": "81b3766e",
   "metadata": {},
   "outputs": [],
   "source": [
    "# Function In Python"
   ]
  },
  {
   "cell_type": "code",
   "execution_count": 52,
   "id": "ec9f1ccb",
   "metadata": {},
   "outputs": [
    {
     "name": "stdout",
     "output_type": "stream",
     "text": [
      "This is my prog\n"
     ]
    }
   ],
   "source": [
    "print(\"This is my prog\")"
   ]
  },
  {
   "cell_type": "code",
   "execution_count": 53,
   "id": "f48150a7",
   "metadata": {},
   "outputs": [
    {
     "data": {
      "text/plain": [
       "5"
      ]
     },
     "execution_count": 53,
     "metadata": {},
     "output_type": "execute_result"
    }
   ],
   "source": [
    "l = [1,2,3,4,5]\n",
    "len(l)"
   ]
  },
  {
   "cell_type": "code",
   "execution_count": 54,
   "id": "1144c534",
   "metadata": {},
   "outputs": [],
   "source": [
    "def test():\n",
    "    pass"
   ]
  },
  {
   "cell_type": "code",
   "execution_count": 55,
   "id": "b4abd487",
   "metadata": {},
   "outputs": [],
   "source": [
    "def test():\n",
    "    print(\"This is my very very frist fun\")"
   ]
  },
  {
   "cell_type": "code",
   "execution_count": 56,
   "id": "0bc59516",
   "metadata": {},
   "outputs": [
    {
     "name": "stdout",
     "output_type": "stream",
     "text": [
      "This is my very very frist fun\n"
     ]
    }
   ],
   "source": [
    "test()"
   ]
  },
  {
   "cell_type": "code",
   "execution_count": 57,
   "id": "2de265bd",
   "metadata": {},
   "outputs": [],
   "source": [
    "def test2():\n",
    "    return \"this is my fun with return\""
   ]
  },
  {
   "cell_type": "code",
   "execution_count": 58,
   "id": "b20d7744",
   "metadata": {},
   "outputs": [
    {
     "data": {
      "text/plain": [
       "'this is my fun with return'"
      ]
     },
     "execution_count": 58,
     "metadata": {},
     "output_type": "execute_result"
    }
   ],
   "source": [
    "test2()"
   ]
  },
  {
   "cell_type": "code",
   "execution_count": 59,
   "id": "e89e3c99",
   "metadata": {},
   "outputs": [
    {
     "data": {
      "text/plain": [
       "'this is my fun with return ram'"
      ]
     },
     "execution_count": 59,
     "metadata": {},
     "output_type": "execute_result"
    }
   ],
   "source": [
    "test2() + \" ram\""
   ]
  },
  {
   "cell_type": "code",
   "execution_count": 60,
   "id": "7c5597d5",
   "metadata": {},
   "outputs": [],
   "source": [
    "def test3():\n",
    "    return 1,4,\"pwskills\",34.25"
   ]
  },
  {
   "cell_type": "code",
   "execution_count": 61,
   "id": "243e8f78",
   "metadata": {},
   "outputs": [
    {
     "data": {
      "text/plain": [
       "(1, 4, 'pwskills', 34.25)"
      ]
     },
     "execution_count": 61,
     "metadata": {},
     "output_type": "execute_result"
    }
   ],
   "source": [
    "test3()"
   ]
  },
  {
   "cell_type": "code",
   "execution_count": 62,
   "id": "adc46459",
   "metadata": {},
   "outputs": [],
   "source": [
    "a = 1,2,3,4,5"
   ]
  },
  {
   "cell_type": "code",
   "execution_count": 63,
   "id": "eabec4d6",
   "metadata": {},
   "outputs": [
    {
     "data": {
      "text/plain": [
       "(1, 2, 3, 4, 5)"
      ]
     },
     "execution_count": 63,
     "metadata": {},
     "output_type": "execute_result"
    }
   ],
   "source": [
    "a"
   ]
  },
  {
   "cell_type": "code",
   "execution_count": 64,
   "id": "3d49eff1",
   "metadata": {},
   "outputs": [
    {
     "data": {
      "text/plain": [
       "tuple"
      ]
     },
     "execution_count": 64,
     "metadata": {},
     "output_type": "execute_result"
    }
   ],
   "source": [
    "type(a)"
   ]
  },
  {
   "cell_type": "code",
   "execution_count": 65,
   "id": "85454b77",
   "metadata": {},
   "outputs": [],
   "source": [
    "a,b,c,d,e = 1,2,\"Krishna\",True,5.20"
   ]
  },
  {
   "cell_type": "code",
   "execution_count": 66,
   "id": "da65bf92",
   "metadata": {},
   "outputs": [
    {
     "name": "stdout",
     "output_type": "stream",
     "text": [
      "1\n",
      "2\n",
      "Krishna\n",
      "True\n",
      "5.2\n"
     ]
    }
   ],
   "source": [
    "print(a)\n",
    "print(b)\n",
    "print(c)\n",
    "print(d)\n",
    "print(e)"
   ]
  },
  {
   "cell_type": "code",
   "execution_count": 67,
   "id": "6e594c20",
   "metadata": {},
   "outputs": [
    {
     "data": {
      "text/plain": [
       "(1, 4, 'pwskills', 34.25)"
      ]
     },
     "execution_count": 67,
     "metadata": {},
     "output_type": "execute_result"
    }
   ],
   "source": [
    "test3()"
   ]
  },
  {
   "cell_type": "code",
   "execution_count": 68,
   "id": "a05af9a1",
   "metadata": {},
   "outputs": [
    {
     "data": {
      "text/plain": [
       "1"
      ]
     },
     "execution_count": 68,
     "metadata": {},
     "output_type": "execute_result"
    }
   ],
   "source": [
    "test3()[0]"
   ]
  },
  {
   "cell_type": "code",
   "execution_count": 69,
   "id": "d3e1c499",
   "metadata": {},
   "outputs": [
    {
     "data": {
      "text/plain": [
       "4"
      ]
     },
     "execution_count": 69,
     "metadata": {},
     "output_type": "execute_result"
    }
   ],
   "source": [
    "test3()[1]"
   ]
  },
  {
   "cell_type": "code",
   "execution_count": 70,
   "id": "afa74f64",
   "metadata": {},
   "outputs": [],
   "source": [
    "a,b,c,d = test3()"
   ]
  },
  {
   "cell_type": "code",
   "execution_count": 71,
   "id": "996c1547",
   "metadata": {},
   "outputs": [
    {
     "data": {
      "text/plain": [
       "1"
      ]
     },
     "execution_count": 71,
     "metadata": {},
     "output_type": "execute_result"
    }
   ],
   "source": [
    "a"
   ]
  },
  {
   "cell_type": "code",
   "execution_count": 72,
   "id": "0304916c",
   "metadata": {},
   "outputs": [
    {
     "data": {
      "text/plain": [
       "'pwskills'"
      ]
     },
     "execution_count": 72,
     "metadata": {},
     "output_type": "execute_result"
    }
   ],
   "source": [
    "c"
   ]
  },
  {
   "cell_type": "code",
   "execution_count": 73,
   "id": "101a6d71",
   "metadata": {},
   "outputs": [],
   "source": [
    "def test4():\n",
    "    a = 3*4 + 5\n",
    "    return a"
   ]
  },
  {
   "cell_type": "code",
   "execution_count": 74,
   "id": "c23871c4",
   "metadata": {},
   "outputs": [
    {
     "data": {
      "text/plain": [
       "17"
      ]
     },
     "execution_count": 74,
     "metadata": {},
     "output_type": "execute_result"
    }
   ],
   "source": [
    "test4()"
   ]
  },
  {
   "cell_type": "code",
   "execution_count": 75,
   "id": "7ff2e4bf",
   "metadata": {},
   "outputs": [],
   "source": [
    "def test5(a,b):\n",
    "    c = a+b\n",
    "    return c"
   ]
  },
  {
   "cell_type": "code",
   "execution_count": 76,
   "id": "cc2f92e7",
   "metadata": {},
   "outputs": [
    {
     "data": {
      "text/plain": [
       "35"
      ]
     },
     "execution_count": 76,
     "metadata": {},
     "output_type": "execute_result"
    }
   ],
   "source": [
    "test5(10,25)"
   ]
  },
  {
   "cell_type": "code",
   "execution_count": 77,
   "id": "a38869eb",
   "metadata": {},
   "outputs": [
    {
     "data": {
      "text/plain": [
       "'Krishna Baraskar'"
      ]
     },
     "execution_count": 77,
     "metadata": {},
     "output_type": "execute_result"
    }
   ],
   "source": [
    "test5(\"Krishna\",\" Baraskar\")"
   ]
  },
  {
   "cell_type": "code",
   "execution_count": 78,
   "id": "71f04717",
   "metadata": {},
   "outputs": [
    {
     "data": {
      "text/plain": [
       "'Baraskar Krishna'"
      ]
     },
     "execution_count": 78,
     "metadata": {},
     "output_type": "execute_result"
    }
   ],
   "source": [
    "test5(b = \" Krishna\" , a = \"Baraskar\")"
   ]
  },
  {
   "cell_type": "code",
   "execution_count": 79,
   "id": "677f50f5",
   "metadata": {},
   "outputs": [
    {
     "name": "stdout",
     "output_type": "stream",
     "text": [
      "[1, 2, 3, 4, 5, 'Krishna', 'Two Dimension', [1, 56, 14, 25, 85]]\n"
     ]
    }
   ],
   "source": [
    "l = [1,2,3,4,5,\"Krishna\",\"Two Dimension\",[1,56,14,25,85]]\n",
    "print(l)"
   ]
  },
  {
   "cell_type": "code",
   "execution_count": 80,
   "id": "e4478e1d",
   "metadata": {},
   "outputs": [],
   "source": [
    "# create a function which will take list as a input \n",
    "# and give me a final list with all the numberic value "
   ]
  },
  {
   "cell_type": "code",
   "execution_count": 81,
   "id": "52ada092",
   "metadata": {},
   "outputs": [
    {
     "name": "stdout",
     "output_type": "stream",
     "text": [
      "[1, 2, 3, 4, 5]\n"
     ]
    }
   ],
   "source": [
    "def numbers(l):\n",
    "    num_list = []\n",
    "    for i in l:\n",
    "        if type(i) == int or type(i) == float:\n",
    "            num_list.append(i)\n",
    "    return num_list\n",
    "l = [1,2,3,4,5,\"Krishna\",\"Two Dimension\",[1,56,14,25,85]]\n",
    "\n",
    "result = numbers(l)\n",
    "print(result)\n"
   ]
  },
  {
   "cell_type": "code",
   "execution_count": 82,
   "id": "94545dcb",
   "metadata": {},
   "outputs": [],
   "source": [
    "def test7(a):\n",
    "    num_fun = []\n",
    "    for i in a:\n",
    "        if type(i) == int or type(i) == float:\n",
    "            num_fun.append(i)\n",
    "        else:\n",
    "            if type(i) == list:\n",
    "                for j in i:\n",
    "                    if type(j) == int or type(j) == float:\n",
    "                        num_fun.append(j)\n",
    "    return num_fun"
   ]
  },
  {
   "cell_type": "code",
   "execution_count": 83,
   "id": "fbcb3889",
   "metadata": {},
   "outputs": [
    {
     "data": {
      "text/plain": [
       "[1, 2, 3, 4, 5, 1, 56, 14, 25, 85]"
      ]
     },
     "execution_count": 83,
     "metadata": {},
     "output_type": "execute_result"
    }
   ],
   "source": [
    "k = [1,2,3,4,5,\"Krishna\",\"Two Dimension\",[1,56,14,25,85]]\n",
    "\n",
    "result = test7(k)\n",
    "result"
   ]
  },
  {
   "cell_type": "code",
   "execution_count": null,
   "id": "f61608b3",
   "metadata": {},
   "outputs": [],
   "source": []
  }
 ],
 "metadata": {
  "kernelspec": {
   "display_name": "Python 3 (ipykernel)",
   "language": "python",
   "name": "python3"
  },
  "language_info": {
   "codemirror_mode": {
    "name": "ipython",
    "version": 3
   },
   "file_extension": ".py",
   "mimetype": "text/x-python",
   "name": "python",
   "nbconvert_exporter": "python",
   "pygments_lexer": "ipython3",
   "version": "3.11.5"
  }
 },
 "nbformat": 4,
 "nbformat_minor": 5
}
