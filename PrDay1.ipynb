{
 "cells": [
  {
   "cell_type": "code",
   "execution_count": 1,
   "id": "547da67e",
   "metadata": {},
   "outputs": [
    {
     "data": {
      "text/plain": [
       "int"
      ]
     },
     "execution_count": 1,
     "metadata": {},
     "output_type": "execute_result"
    }
   ],
   "source": [
    "a = 10\n",
    "type(a)"
   ]
  },
  {
   "cell_type": "code",
   "execution_count": 2,
   "id": "c5d5086c",
   "metadata": {},
   "outputs": [
    {
     "data": {
      "text/plain": [
       "str"
      ]
     },
     "execution_count": 2,
     "metadata": {},
     "output_type": "execute_result"
    }
   ],
   "source": [
    "a = 'c'\n",
    "type(a)"
   ]
  },
  {
   "cell_type": "code",
   "execution_count": 3,
   "id": "86097598",
   "metadata": {},
   "outputs": [
    {
     "data": {
      "text/plain": [
       "123"
      ]
     },
     "execution_count": 3,
     "metadata": {},
     "output_type": "execute_result"
    }
   ],
   "source": [
    "int (\"123\")"
   ]
  },
  {
   "cell_type": "code",
   "execution_count": 4,
   "id": "ec1a1262",
   "metadata": {},
   "outputs": [
    {
     "ename": "ValueError",
     "evalue": "invalid literal for int() with base 10: 'abcd'",
     "output_type": "error",
     "traceback": [
      "\u001b[1;31m---------------------------------------------------------------------------\u001b[0m",
      "\u001b[1;31mValueError\u001b[0m                                Traceback (most recent call last)",
      "Cell \u001b[1;32mIn[4], line 1\u001b[0m\n\u001b[1;32m----> 1\u001b[0m \u001b[38;5;28mint\u001b[39m(\u001b[38;5;124m'\u001b[39m\u001b[38;5;124mabcd\u001b[39m\u001b[38;5;124m'\u001b[39m)\n",
      "\u001b[1;31mValueError\u001b[0m: invalid literal for int() with base 10: 'abcd'"
     ]
    }
   ],
   "source": [
    "int('abcd')"
   ]
  },
  {
   "cell_type": "code",
   "execution_count": 5,
   "id": "f282d3b7",
   "metadata": {},
   "outputs": [
    {
     "name": "stdout",
     "output_type": "stream",
     "text": [
      "hello world\n"
     ]
    }
   ],
   "source": [
    "print(\"hello world\")"
   ]
  },
  {
   "cell_type": "code",
   "execution_count": 6,
   "id": "a5c01e14",
   "metadata": {},
   "outputs": [
    {
     "name": "stdout",
     "output_type": "stream",
     "text": [
      "123\n"
     ]
    }
   ],
   "source": [
    "print(123)"
   ]
  },
  {
   "cell_type": "code",
   "execution_count": 7,
   "id": "ecd1964c",
   "metadata": {},
   "outputs": [
    {
     "name": "stdout",
     "output_type": "stream",
     "text": [
      "Hello World\n"
     ]
    }
   ],
   "source": [
    "print('Hello World')"
   ]
  },
  {
   "cell_type": "code",
   "execution_count": 8,
   "id": "bccf4672",
   "metadata": {},
   "outputs": [
    {
     "name": "stdout",
     "output_type": "stream",
     "text": [
      "My age is :  22\n"
     ]
    }
   ],
   "source": [
    "age = 22\n",
    "print(\"My age is : \",age)"
   ]
  },
  {
   "cell_type": "code",
   "execution_count": 9,
   "id": "874d82ed",
   "metadata": {},
   "outputs": [
    {
     "name": "stdout",
     "output_type": "stream",
     "text": [
      "My age is : {age}\n"
     ]
    }
   ],
   "source": [
    "print(\"My age is : {age}\")"
   ]
  },
  {
   "cell_type": "code",
   "execution_count": 10,
   "id": "7e9c42c8",
   "metadata": {},
   "outputs": [
    {
     "name": "stdout",
     "output_type": "stream",
     "text": [
      "My age is 22\n"
     ]
    }
   ],
   "source": [
    "#f-string in python \n",
    "#Formatting\n",
    "print(f\"My age is {age}\")"
   ]
  },
  {
   "cell_type": "code",
   "execution_count": 11,
   "id": "cd61e272",
   "metadata": {},
   "outputs": [
    {
     "name": "stdout",
     "output_type": "stream",
     "text": [
      "my name is Krishna and age is 22\n"
     ]
    }
   ],
   "source": [
    "#format\n",
    "name = \"Krishna\"\n",
    "age = 22\n",
    "print(\"my name is {} and age is {}\".format(name, age))"
   ]
  },
  {
   "cell_type": "code",
   "execution_count": 12,
   "id": "6b6746e4",
   "metadata": {},
   "outputs": [
    {
     "name": "stdout",
     "output_type": "stream",
     "text": [
      "My name is 22 and age is Krishna\n"
     ]
    }
   ],
   "source": [
    "print(\"My name is {} and age is {}\".format(age, name))"
   ]
  },
  {
   "cell_type": "code",
   "execution_count": 13,
   "id": "51d16549",
   "metadata": {},
   "outputs": [
    {
     "name": "stdout",
     "output_type": "stream",
     "text": [
      "My name is Krishna and age is 22\n"
     ]
    }
   ],
   "source": [
    "print(\"My name is {Firstname} and age is {Firstage}\".format(Firstname = name,Firstage = age))"
   ]
  },
  {
   "cell_type": "code",
   "execution_count": 14,
   "id": "bacccf56",
   "metadata": {},
   "outputs": [
    {
     "name": "stdout",
     "output_type": "stream",
     "text": [
      "My name is Krishna Baraskar. my age is 22 and my degree in BE\n"
     ]
    }
   ],
   "source": [
    "name = \"Krishna Baraskar\"\n",
    "age = 22\n",
    "degree = \"BE\"\n",
    "print(\"My name is {}. my age is {} and my degree in {}\".format(name, age, degree))"
   ]
  },
  {
   "cell_type": "code",
   "execution_count": 15,
   "id": "11f91ad3",
   "metadata": {},
   "outputs": [
    {
     "name": "stdout",
     "output_type": "stream",
     "text": [
      "My age is 22 and I have completed my degree of BE With the name of Krishna Baraskar.\n",
      "My age is 22 and I have completed my degree of BE With the name of Krishna Baraskar.\n"
     ]
    }
   ],
   "source": [
    "print(\"My age is {} and I have completed my degree of {} With the name of {}.\".format(age,degree,name))\n",
    "print(\"My age is {Fage} and I have completed my degree of {Fdegree} With the name of {Fname}.\".format(Fage=age,Fdegree=degree,Fname=name))"
   ]
  },
  {
   "cell_type": "code",
   "execution_count": 16,
   "id": "c0d68ffc",
   "metadata": {},
   "outputs": [
    {
     "name": "stdout",
     "output_type": "stream",
     "text": [
      "My age is 22 and I have comleted my degree of BE with the name of Krishna Baraskar\n"
     ]
    }
   ],
   "source": [
    "print(f\"My age is {age} and I have comleted my degree of {degree} with the name of {name}\")"
   ]
  },
  {
   "cell_type": "code",
   "execution_count": 17,
   "id": "cb379ded",
   "metadata": {},
   "outputs": [],
   "source": [
    "# Control Flow\n",
    "# Decision making Statement"
   ]
  },
  {
   "cell_type": "code",
   "execution_count": 18,
   "id": "102f9f60",
   "metadata": {},
   "outputs": [
    {
     "name": "stdout",
     "output_type": "stream",
     "text": [
      "I am eligiable to vote\n"
     ]
    }
   ],
   "source": [
    "# if Statements\n",
    "age = 18\n",
    "if age >= 18: # column just indicate the start of the IF Block\n",
    "    print(\"I am eligiable to vote\")"
   ]
  },
  {
   "cell_type": "code",
   "execution_count": 19,
   "id": "805eef3f",
   "metadata": {},
   "outputs": [],
   "source": [
    "#    ==,<=,>="
   ]
  },
  {
   "cell_type": "code",
   "execution_count": 20,
   "id": "4a79a2d0",
   "metadata": {},
   "outputs": [
    {
     "name": "stdout",
     "output_type": "stream",
     "text": [
      "Krishna Baraskar\n"
     ]
    },
    {
     "data": {
      "text/plain": [
       "'Krishna Baraskar'"
      ]
     },
     "execution_count": 20,
     "metadata": {},
     "output_type": "execute_result"
    }
   ],
   "source": [
    "input()\n",
    "#Default data type of input() is String"
   ]
  },
  {
   "cell_type": "code",
   "execution_count": 21,
   "id": "5b682fc8",
   "metadata": {},
   "outputs": [
    {
     "name": "stdout",
     "output_type": "stream",
     "text": [
      "Enter your name:-Krishna Baraskar\n"
     ]
    }
   ],
   "source": [
    "name = input(\"Enter your name:-\")"
   ]
  },
  {
   "cell_type": "code",
   "execution_count": 22,
   "id": "e13f340a",
   "metadata": {},
   "outputs": [
    {
     "name": "stdout",
     "output_type": "stream",
     "text": [
      "Enter Your age:- 22\n"
     ]
    }
   ],
   "source": [
    "age = input(\"Enter Your age:- \")"
   ]
  },
  {
   "cell_type": "code",
   "execution_count": 23,
   "id": "767cc3e9",
   "metadata": {},
   "outputs": [
    {
     "data": {
      "text/plain": [
       "str"
      ]
     },
     "execution_count": 23,
     "metadata": {},
     "output_type": "execute_result"
    }
   ],
   "source": [
    "type(age)"
   ]
  },
  {
   "cell_type": "code",
   "execution_count": 24,
   "id": "58320f38",
   "metadata": {},
   "outputs": [
    {
     "name": "stdout",
     "output_type": "stream",
     "text": [
      "Enter your age:- 22\n"
     ]
    }
   ],
   "source": [
    "age = int(input(\"Enter your age:- \"))\n",
    "#Type casting has been done in this input()"
   ]
  },
  {
   "cell_type": "code",
   "execution_count": 25,
   "id": "f96d5a9c",
   "metadata": {},
   "outputs": [
    {
     "data": {
      "text/plain": [
       "int"
      ]
     },
     "execution_count": 25,
     "metadata": {},
     "output_type": "execute_result"
    }
   ],
   "source": [
    "type(age)"
   ]
  },
  {
   "cell_type": "code",
   "execution_count": 26,
   "id": "ea0c263a",
   "metadata": {},
   "outputs": [],
   "source": [
    "# Task 1\n",
    "# Input age\n",
    "#Whether age is greater than equal to 18 or not\n",
    "# if age >= 18 and <= 45 Display You are young Blood"
   ]
  },
  {
   "cell_type": "code",
   "execution_count": 27,
   "id": "7eaabb04",
   "metadata": {},
   "outputs": [
    {
     "name": "stdout",
     "output_type": "stream",
     "text": [
      "Enter your age22\n",
      "You are young Blood\n"
     ]
    }
   ],
   "source": [
    "age = int(input(\"Enter your age\"))\n",
    "if age >= 18 and age <=45:\n",
    "    print(\"You are young Blood\")"
   ]
  },
  {
   "cell_type": "code",
   "execution_count": 28,
   "id": "2cf7873b",
   "metadata": {},
   "outputs": [],
   "source": [
    "# if else statement"
   ]
  },
  {
   "cell_type": "code",
   "execution_count": 29,
   "id": "7fd57133",
   "metadata": {},
   "outputs": [
    {
     "name": "stdout",
     "output_type": "stream",
     "text": [
      "Enter your age:-15\n",
      "Thank you, We will let you know\n"
     ]
    }
   ],
   "source": [
    "age = int(input(\"Enter your age:-\"))\n",
    "if age >= 18 and age <= 45:\n",
    "    print(\"You are young Blood\")\n",
    "else:\n",
    "    print(\"Thank you, We will let you know\")"
   ]
  },
  {
   "cell_type": "code",
   "execution_count": 30,
   "id": "b999a87c",
   "metadata": {},
   "outputs": [],
   "source": [
    "# Task 2\n",
    "#  mall:- \n",
    "#     input the product price\n",
    "#     product is >1000 ----30% off\n",
    "#     Print the product price\n",
    "#     Product is <=1000 ----20% off\n",
    "#     print the product price"
   ]
  },
  {
   "cell_type": "code",
   "execution_count": 31,
   "id": "fa551b3d",
   "metadata": {},
   "outputs": [
    {
     "name": "stdout",
     "output_type": "stream",
     "text": [
      "Enter Product price2000\n",
      "Product Price is:  1400.0\n"
     ]
    }
   ],
   "source": [
    "price = int(input(\"Enter Product price\"))\n",
    "if price <= 1000:\n",
    "    price = price - price*(20/100)\n",
    "    print(\"Product Price is: \",price)\n",
    "else:\n",
    "    price-=price*(30/100)\n",
    "    print(\"Product Price is: \",price)"
   ]
  },
  {
   "cell_type": "code",
   "execution_count": 32,
   "id": "073928cf",
   "metadata": {},
   "outputs": [
    {
     "name": "stdout",
     "output_type": "stream",
     "text": [
      "Enter product price :-80000\n",
      "Product price is 40000.0\n"
     ]
    }
   ],
   "source": [
    "Product_price = int(input(\"Enter product price :-\"))\n",
    "if Product_price <=1000:\n",
    "    print(f\"Product Price is {Product_price*0.3}\")\n",
    "elif Product_price > 1000 and Product_price <= 3000:\n",
    "    print(f\"Product Price is {Product_price*0.4}\")\n",
    "elif Product_price > 3000:\n",
    "    print(f\"Product price is {Product_price* 0.5}\")\n",
    "else:\n",
    "    print(\"Sorry no dicount\")"
   ]
  },
  {
   "cell_type": "code",
   "execution_count": 33,
   "id": "bb82ad2d",
   "metadata": {},
   "outputs": [],
   "source": [
    "# single statements suits"
   ]
  },
  {
   "cell_type": "code",
   "execution_count": 34,
   "id": "248e553b",
   "metadata": {},
   "outputs": [
    {
     "name": "stdout",
     "output_type": "stream",
     "text": [
      "enter the value:-99\n",
      "Sorry\n"
     ]
    }
   ],
   "source": [
    "val = int(input(\"enter the value:-\"))\n",
    "if val > 999:print(\"value is Greater than or equal to 999\")\n",
    "else:print(\"Sorry\")"
   ]
  },
  {
   "cell_type": "code",
   "execution_count": 35,
   "id": "8a47d11a",
   "metadata": {},
   "outputs": [
    {
     "name": "stdout",
     "output_type": "stream",
     "text": [
      "26\n",
      "27\n",
      "28\n",
      "29\n",
      "30\n",
      "31\n",
      "32\n",
      "33\n",
      "34\n",
      "35\n",
      "36\n",
      "37\n",
      "38\n",
      "39\n",
      "40\n",
      "41\n",
      "42\n",
      "43\n",
      "44\n",
      "45\n",
      "46\n",
      "47\n",
      "48\n",
      "49\n",
      "50\n",
      "51\n",
      "52\n",
      "53\n",
      "54\n",
      "55\n",
      "56\n",
      "57\n",
      "58\n",
      "59\n",
      "60\n",
      "61\n",
      "your age is 61, Now its time to retired\n"
     ]
    }
   ],
   "source": [
    "joining_age = 25\n",
    "while joining_age <= 60:\n",
    "    joining_age +=1\n",
    "    print(joining_age)\n",
    "print(\"your age is {}, Now its time to retired\".format(joining_age))"
   ]
  },
  {
   "cell_type": "code",
   "execution_count": 36,
   "id": "4218a0ba",
   "metadata": {},
   "outputs": [
    {
     "name": "stdout",
     "output_type": "stream",
     "text": [
      "900\n",
      "800\n",
      "700\n",
      "600\n",
      "500\n",
      "400\n",
      "300\n",
      "200\n",
      "100\n",
      "0\n",
      "money is Exhausted\n"
     ]
    }
   ],
   "source": [
    "Total_Amount = 1000\n",
    "while Total_Amount!=0:\n",
    "    Total_Amount-=100\n",
    "    print(Total_Amount)\n",
    "else:\n",
    "    print(\"money is Exhausted\")"
   ]
  },
  {
   "cell_type": "code",
   "execution_count": 37,
   "id": "72a417e9",
   "metadata": {},
   "outputs": [
    {
     "data": {
      "text/plain": [
       "['Krishna', 1, 2, 3, 4, 'Apple', 'Banana']"
      ]
     },
     "execution_count": 37,
     "metadata": {},
     "output_type": "execute_result"
    }
   ],
   "source": [
    "lst = [\"Krishna\",1,2,3,4,\"Apple\",\"Banana\"]\n",
    "lst"
   ]
  },
  {
   "cell_type": "code",
   "execution_count": 38,
   "id": "53a30b16",
   "metadata": {},
   "outputs": [
    {
     "data": {
      "text/plain": [
       "list"
      ]
     },
     "execution_count": 38,
     "metadata": {},
     "output_type": "execute_result"
    }
   ],
   "source": [
    "type(lst)"
   ]
  },
  {
   "cell_type": "code",
   "execution_count": 39,
   "id": "a11808c2",
   "metadata": {},
   "outputs": [
    {
     "data": {
      "text/plain": [
       "'Krishna'"
      ]
     },
     "execution_count": 39,
     "metadata": {},
     "output_type": "execute_result"
    }
   ],
   "source": [
    "lst[0]"
   ]
  },
  {
   "cell_type": "code",
   "execution_count": 40,
   "id": "31f395a2",
   "metadata": {},
   "outputs": [
    {
     "data": {
      "text/plain": [
       "'Banana'"
      ]
     },
     "execution_count": 40,
     "metadata": {},
     "output_type": "execute_result"
    }
   ],
   "source": [
    "lst[-1]"
   ]
  },
  {
   "cell_type": "code",
   "execution_count": 41,
   "id": "b7b0a088",
   "metadata": {},
   "outputs": [
    {
     "name": "stdout",
     "output_type": "stream",
     "text": [
      "Krishna\n",
      "1\n",
      "2\n",
      "3\n",
      "4\n",
      "Apple\n",
      "Banana\n"
     ]
    }
   ],
   "source": [
    "for i in lst:\n",
    "    print(i)"
   ]
  },
  {
   "cell_type": "code",
   "execution_count": 50,
   "id": "695def83",
   "metadata": {},
   "outputs": [
    {
     "name": "stdout",
     "output_type": "stream",
     "text": [
      "Apple\n",
      "Banana\n",
      "Cherry\n",
      "Oh! This is my Fav fruit\n",
      "Zinger\n",
      "Mango\n"
     ]
    }
   ],
   "source": [
    "fruit_List = ['Apple','Banana','Cherry','Zinger','Mango']\n",
    "\n",
    "for fruit in fruit_List:\n",
    "    print(fruit)\n",
    "    if fruit =='Cherry':\n",
    "        print(\"Oh! This is my Fav fruit\")"
   ]
  },
  {
   "cell_type": "code",
   "execution_count": 51,
   "id": "55694a4f",
   "metadata": {},
   "outputs": [
    {
     "name": "stdout",
     "output_type": "stream",
     "text": [
      "M\n",
      "a\n",
      "n\n",
      "g\n",
      "o\n"
     ]
    }
   ],
   "source": [
    "fruits = 'Mango'\n",
    "for x in fruit:\n",
    "    print(x)\n"
   ]
  },
  {
   "cell_type": "code",
   "execution_count": 52,
   "id": "d17283bd",
   "metadata": {},
   "outputs": [
    {
     "data": {
      "text/plain": [
       "'M'"
      ]
     },
     "execution_count": 52,
     "metadata": {},
     "output_type": "execute_result"
    }
   ],
   "source": [
    "fruits[0]"
   ]
  },
  {
   "cell_type": "code",
   "execution_count": 53,
   "id": "d7eb33cd",
   "metadata": {},
   "outputs": [
    {
     "data": {
      "text/plain": [
       "'n'"
      ]
     },
     "execution_count": 53,
     "metadata": {},
     "output_type": "execute_result"
    }
   ],
   "source": [
    "fruits[2]"
   ]
  },
  {
   "cell_type": "code",
   "execution_count": 54,
   "id": "84c5247f",
   "metadata": {},
   "outputs": [
    {
     "data": {
      "text/plain": [
       "'n'"
      ]
     },
     "execution_count": 54,
     "metadata": {},
     "output_type": "execute_result"
    }
   ],
   "source": [
    "fruits[-3]"
   ]
  },
  {
   "cell_type": "code",
   "execution_count": 55,
   "id": "5323fcdb",
   "metadata": {},
   "outputs": [],
   "source": [
    "##Nested Loop"
   ]
  },
  {
   "cell_type": "code",
   "execution_count": 56,
   "id": "b97966bc",
   "metadata": {},
   "outputs": [
    {
     "data": {
      "text/plain": [
       "range(1, 6)"
      ]
     },
     "execution_count": 56,
     "metadata": {},
     "output_type": "execute_result"
    }
   ],
   "source": [
    "range(1,6)"
   ]
  },
  {
   "cell_type": "code",
   "execution_count": 57,
   "id": "f2198c6b",
   "metadata": {},
   "outputs": [
    {
     "name": "stdout",
     "output_type": "stream",
     "text": [
      "1\n",
      "2\n",
      "3\n",
      "4\n",
      "5\n"
     ]
    }
   ],
   "source": [
    "for i in range(1,6):\n",
    "    print(i)"
   ]
  },
  {
   "cell_type": "code",
   "execution_count": 58,
   "id": "f0970ab9",
   "metadata": {},
   "outputs": [
    {
     "name": "stdout",
     "output_type": "stream",
     "text": [
      "1\n",
      "3\n",
      "5\n"
     ]
    }
   ],
   "source": [
    "for i in range(1,6,2):\n",
    "    print(i)"
   ]
  },
  {
   "cell_type": "code",
   "execution_count": 60,
   "id": "9b581439",
   "metadata": {},
   "outputs": [
    {
     "name": "stdout",
     "output_type": "stream",
     "text": [
      "1\n",
      "2\n",
      "3\n",
      "4\n",
      "5\n",
      "6\n",
      "7\n",
      "8\n",
      "9\n"
     ]
    }
   ],
   "source": [
    "for i in range(1,10):\n",
    "    print(i)"
   ]
  },
  {
   "cell_type": "code",
   "execution_count": 75,
   "id": "62956cd6",
   "metadata": {},
   "outputs": [
    {
     "name": "stdout",
     "output_type": "stream",
     "text": [
      "Enter the Number:-5\n",
      "*\n",
      "**\n",
      "***\n",
      "****\n",
      "*****\n"
     ]
    }
   ],
   "source": [
    "x = int(input(\"Enter the Number:-\"))\n",
    "for i in range(0,x):\n",
    "    for i in range(0,i+1):\n",
    "        print(\"*\",end = \"\")\n",
    "    print()"
   ]
  },
  {
   "cell_type": "code",
   "execution_count": 76,
   "id": "47779b15",
   "metadata": {},
   "outputs": [
    {
     "name": "stdout",
     "output_type": "stream",
     "text": [
      "\n"
     ]
    }
   ],
   "source": []
  },
  {
   "cell_type": "code",
   "execution_count": null,
   "id": "4e1b90ed",
   "metadata": {},
   "outputs": [],
   "source": []
  }
 ],
 "metadata": {
  "kernelspec": {
   "display_name": "Python 3 (ipykernel)",
   "language": "python",
   "name": "python3"
  },
  "language_info": {
   "codemirror_mode": {
    "name": "ipython",
    "version": 3
   },
   "file_extension": ".py",
   "mimetype": "text/x-python",
   "name": "python",
   "nbconvert_exporter": "python",
   "pygments_lexer": "ipython3",
   "version": "3.11.5"
  }
 },
 "nbformat": 4,
 "nbformat_minor": 5
}
