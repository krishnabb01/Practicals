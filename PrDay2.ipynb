{
 "cells": [
  {
   "cell_type": "code",
   "execution_count": 1,
   "id": "5133b884",
   "metadata": {},
   "outputs": [],
   "source": [
    "name = \"Krishna Baraskar\""
   ]
  },
  {
   "cell_type": "code",
   "execution_count": 2,
   "id": "2133ba79",
   "metadata": {},
   "outputs": [
    {
     "data": {
      "text/plain": [
       "'KRISHNA BARASKAR'"
      ]
     },
     "execution_count": 2,
     "metadata": {},
     "output_type": "execute_result"
    }
   ],
   "source": [
    "name.upper()"
   ]
  },
  {
   "cell_type": "code",
   "execution_count": 3,
   "id": "0d99d683",
   "metadata": {},
   "outputs": [
    {
     "data": {
      "text/plain": [
       "'Krishna baraskar'"
      ]
     },
     "execution_count": 3,
     "metadata": {},
     "output_type": "execute_result"
    }
   ],
   "source": [
    "name.capitalize()"
   ]
  },
  {
   "cell_type": "code",
   "execution_count": 4,
   "id": "b549c31c",
   "metadata": {},
   "outputs": [
    {
     "data": {
      "text/plain": [
       "'Krishna Baraskar'"
      ]
     },
     "execution_count": 4,
     "metadata": {},
     "output_type": "execute_result"
    }
   ],
   "source": [
    "name.title()"
   ]
  },
  {
   "cell_type": "code",
   "execution_count": 5,
   "id": "65c6cd05",
   "metadata": {},
   "outputs": [
    {
     "data": {
      "text/plain": [
       "'krishna baraskar'"
      ]
     },
     "execution_count": 5,
     "metadata": {},
     "output_type": "execute_result"
    }
   ],
   "source": [
    "name.lower()"
   ]
  },
  {
   "cell_type": "code",
   "execution_count": 6,
   "id": "bee13573",
   "metadata": {},
   "outputs": [
    {
     "data": {
      "text/plain": [
       "'kRISHNA bARASKAR'"
      ]
     },
     "execution_count": 6,
     "metadata": {},
     "output_type": "execute_result"
    }
   ],
   "source": [
    "name.swapcase()"
   ]
  },
  {
   "cell_type": "code",
   "execution_count": 7,
   "id": "6f32d8c5",
   "metadata": {},
   "outputs": [
    {
     "data": {
      "text/plain": [
       "4"
      ]
     },
     "execution_count": 7,
     "metadata": {},
     "output_type": "execute_result"
    }
   ],
   "source": [
    "name.count(\"a\")"
   ]
  },
  {
   "cell_type": "code",
   "execution_count": 8,
   "id": "3023a998",
   "metadata": {},
   "outputs": [
    {
     "data": {
      "text/plain": [
       "'krishna baraskar'"
      ]
     },
     "execution_count": 8,
     "metadata": {},
     "output_type": "execute_result"
    }
   ],
   "source": [
    "name.casefold()"
   ]
  },
  {
   "cell_type": "code",
   "execution_count": 9,
   "id": "c709a88e",
   "metadata": {},
   "outputs": [
    {
     "data": {
      "text/plain": [
       "5"
      ]
     },
     "execution_count": 9,
     "metadata": {},
     "output_type": "execute_result"
    }
   ],
   "source": [
    "name.find(\"na\")"
   ]
  },
  {
   "cell_type": "code",
   "execution_count": 10,
   "id": "1b08890a",
   "metadata": {},
   "outputs": [],
   "source": [
    "college = \"BIT BARSHI\""
   ]
  },
  {
   "cell_type": "code",
   "execution_count": 11,
   "id": "b745fb69",
   "metadata": {},
   "outputs": [
    {
     "data": {
      "text/plain": [
       "'bit barshi'"
      ]
     },
     "execution_count": 11,
     "metadata": {},
     "output_type": "execute_result"
    }
   ],
   "source": [
    "college.casefold()"
   ]
  },
  {
   "cell_type": "code",
   "execution_count": 12,
   "id": "0a136cd2",
   "metadata": {},
   "outputs": [],
   "source": [
    "ab = \"KRISHNA\""
   ]
  },
  {
   "cell_type": "code",
   "execution_count": 13,
   "id": "3037c645",
   "metadata": {},
   "outputs": [
    {
     "data": {
      "text/plain": [
       "'krishna'"
      ]
     },
     "execution_count": 13,
     "metadata": {},
     "output_type": "execute_result"
    }
   ],
   "source": [
    "ab.lower()"
   ]
  },
  {
   "cell_type": "code",
   "execution_count": 14,
   "id": "64d72f14",
   "metadata": {},
   "outputs": [
    {
     "data": {
      "text/plain": [
       "'krishna'"
      ]
     },
     "execution_count": 14,
     "metadata": {},
     "output_type": "execute_result"
    }
   ],
   "source": [
    "ab.casefold()   #lower() converts a string to lowercase based on the Unicode standard,\n",
    "                #while casefold() is more aggressive and suitable for case-insensitive comparisons, \n",
    "                #especially in a multilingual context."
   ]
  },
  {
   "cell_type": "code",
   "execution_count": 15,
   "id": "9821b4cc",
   "metadata": {},
   "outputs": [
    {
     "data": {
      "text/plain": [
       "<reversed at 0x1e1f7fe18d0>"
      ]
     },
     "execution_count": 15,
     "metadata": {},
     "output_type": "execute_result"
    }
   ],
   "source": [
    "reversed(name)"
   ]
  },
  {
   "cell_type": "code",
   "execution_count": 16,
   "id": "f132f4ef",
   "metadata": {},
   "outputs": [
    {
     "data": {
      "text/plain": [
       "'r a k s a r a B   a n h s i r K'"
      ]
     },
     "execution_count": 16,
     "metadata": {},
     "output_type": "execute_result"
    }
   ],
   "source": [
    "\" \".join(reversed(name))"
   ]
  },
  {
   "cell_type": "code",
   "execution_count": 17,
   "id": "ea4e41b4",
   "metadata": {},
   "outputs": [
    {
     "data": {
      "text/plain": [
       "'rKrishnaaKrishnakKrishnasKrishnaaKrishnarKrishnaaKrishnaBKrishna KrishnaaKrishnanKrishnahKrishnasKrishnaiKrishnarKrishnaK'"
      ]
     },
     "execution_count": 17,
     "metadata": {},
     "output_type": "execute_result"
    }
   ],
   "source": [
    "\"Krishna\".join(reversed(name))"
   ]
  },
  {
   "cell_type": "code",
   "execution_count": 18,
   "id": "6cf472d8",
   "metadata": {},
   "outputs": [
    {
     "data": {
      "text/plain": [
       "'r1a1k1s1a1r1a1B1 1a1n1h1s1i1r1K'"
      ]
     },
     "execution_count": 18,
     "metadata": {},
     "output_type": "execute_result"
    }
   ],
   "source": [
    "\"1\".join(reversed(name))"
   ]
  },
  {
   "cell_type": "code",
   "execution_count": 19,
   "id": "88ac4746",
   "metadata": {},
   "outputs": [
    {
     "data": {
      "text/plain": [
       "['r', 'a', 't', 'a', 'v', 'A', ' ', 'm', 'a', 'r']"
      ]
     },
     "execution_count": 19,
     "metadata": {},
     "output_type": "execute_result"
    }
   ],
   "source": [
    "list(reversed(\"ram Avatar\"))"
   ]
  },
  {
   "cell_type": "code",
   "execution_count": 20,
   "id": "5677367b",
   "metadata": {},
   "outputs": [
    {
     "name": "stdout",
     "output_type": "stream",
     "text": [
      "r a k s a r a B   a n h s i r K "
     ]
    }
   ],
   "source": [
    "for i in list(reversed(name)):\n",
    "    print(i,end=\" \")"
   ]
  },
  {
   "cell_type": "code",
   "execution_count": 21,
   "id": "3ae934d1",
   "metadata": {},
   "outputs": [],
   "source": [
    "#Removing Charter from the end and beginning of the string"
   ]
  },
  {
   "cell_type": "code",
   "execution_count": 22,
   "id": "a4577991",
   "metadata": {},
   "outputs": [],
   "source": [
    "string = \"   skills   \""
   ]
  },
  {
   "cell_type": "code",
   "execution_count": 23,
   "id": "200d6e89",
   "metadata": {},
   "outputs": [
    {
     "data": {
      "text/plain": [
       "'skills'"
      ]
     },
     "execution_count": 23,
     "metadata": {},
     "output_type": "execute_result"
    }
   ],
   "source": [
    "string.strip()"
   ]
  },
  {
   "cell_type": "code",
   "execution_count": 24,
   "id": "13991cd4",
   "metadata": {},
   "outputs": [
    {
     "data": {
      "text/plain": [
       "'skills   '"
      ]
     },
     "execution_count": 24,
     "metadata": {},
     "output_type": "execute_result"
    }
   ],
   "source": [
    "string.lstrip() # used for removing begining spaces"
   ]
  },
  {
   "cell_type": "code",
   "execution_count": 25,
   "id": "9069187a",
   "metadata": {},
   "outputs": [
    {
     "data": {
      "text/plain": [
       "'   skills'"
      ]
     },
     "execution_count": 25,
     "metadata": {},
     "output_type": "execute_result"
    }
   ],
   "source": [
    "string.rstrip() # used for removing end spaces"
   ]
  },
  {
   "cell_type": "code",
   "execution_count": 26,
   "id": "fa63b779",
   "metadata": {},
   "outputs": [],
   "source": [
    "string_a = \"Greeting to TwoDimension\""
   ]
  },
  {
   "cell_type": "code",
   "execution_count": 27,
   "id": "39748e8b",
   "metadata": {},
   "outputs": [
    {
     "data": {
      "text/plain": [
       "2070039482720"
      ]
     },
     "execution_count": 27,
     "metadata": {},
     "output_type": "execute_result"
    }
   ],
   "source": [
    "id(string_a)"
   ]
  },
  {
   "cell_type": "code",
   "execution_count": 28,
   "id": "92768979",
   "metadata": {},
   "outputs": [
    {
     "data": {
      "text/plain": [
       "'Greeting from TwoDimension'"
      ]
     },
     "execution_count": 28,
     "metadata": {},
     "output_type": "execute_result"
    }
   ],
   "source": [
    "string_a.replace(\"to\",\"from\")"
   ]
  },
  {
   "cell_type": "code",
   "execution_count": 29,
   "id": "1cec4989",
   "metadata": {},
   "outputs": [
    {
     "data": {
      "text/plain": [
       "'Welcome to TwoDimension'"
      ]
     },
     "execution_count": 29,
     "metadata": {},
     "output_type": "execute_result"
    }
   ],
   "source": [
    "string_a.replace(\"Greeting\",\"Welcome\")"
   ]
  },
  {
   "cell_type": "code",
   "execution_count": 30,
   "id": "46d2e6b1",
   "metadata": {},
   "outputs": [
    {
     "data": {
      "text/plain": [
       "'Breeting to TwoDimension'"
      ]
     },
     "execution_count": 30,
     "metadata": {},
     "output_type": "execute_result"
    }
   ],
   "source": [
    "string_a.replace(\"G\",\"B\")"
   ]
  },
  {
   "cell_type": "code",
   "execution_count": 31,
   "id": "707ad527",
   "metadata": {},
   "outputs": [
    {
     "data": {
      "text/plain": [
       "'test@gmail.com'"
      ]
     },
     "execution_count": 31,
     "metadata": {},
     "output_type": "execute_result"
    }
   ],
   "source": [
    "string_a = \"test2gmail.com\"\n",
    "var_a = string_a.replace(\"2\",\"@\")\n",
    "var_a"
   ]
  },
  {
   "cell_type": "code",
   "execution_count": 32,
   "id": "e9561abe",
   "metadata": {},
   "outputs": [
    {
     "data": {
      "text/plain": [
       "'hello   world'"
      ]
     },
     "execution_count": 32,
     "metadata": {},
     "output_type": "execute_result"
    }
   ],
   "source": [
    "\"hello \\tworld\".expandtabs()"
   ]
  },
  {
   "cell_type": "code",
   "execution_count": 33,
   "id": "45d0489f",
   "metadata": {},
   "outputs": [
    {
     "data": {
      "text/plain": [
       "'Welcome to TwoDimension to Data science master'"
      ]
     },
     "execution_count": 33,
     "metadata": {},
     "output_type": "execute_result"
    }
   ],
   "source": [
    "str1 = \"Welcome to TwoDimension to Data science master\"\n",
    "str1"
   ]
  },
  {
   "cell_type": "code",
   "execution_count": 34,
   "id": "b5b06a5e",
   "metadata": {},
   "outputs": [
    {
     "data": {
      "text/plain": [
       "'Welcome to TwoDimension to Data Science master'"
      ]
     },
     "execution_count": 34,
     "metadata": {},
     "output_type": "execute_result"
    }
   ],
   "source": [
    "str1.replace(\"Data science\",\"Data Science\")"
   ]
  },
  {
   "cell_type": "code",
   "execution_count": 35,
   "id": "ee1d58a2",
   "metadata": {},
   "outputs": [
    {
     "data": {
      "text/plain": [
       "False"
      ]
     },
     "execution_count": 35,
     "metadata": {},
     "output_type": "execute_result"
    }
   ],
   "source": [
    "str1.isupper()"
   ]
  },
  {
   "cell_type": "code",
   "execution_count": 36,
   "id": "a3ef3252",
   "metadata": {},
   "outputs": [],
   "source": [
    "str2=\"VIRAT\""
   ]
  },
  {
   "cell_type": "code",
   "execution_count": 37,
   "id": "9de0d6de",
   "metadata": {},
   "outputs": [
    {
     "data": {
      "text/plain": [
       "True"
      ]
     },
     "execution_count": 37,
     "metadata": {},
     "output_type": "execute_result"
    }
   ],
   "source": [
    "str2.isupper()"
   ]
  },
  {
   "cell_type": "code",
   "execution_count": 38,
   "id": "97cf7967",
   "metadata": {},
   "outputs": [
    {
     "data": {
      "text/plain": [
       "False"
      ]
     },
     "execution_count": 38,
     "metadata": {},
     "output_type": "execute_result"
    }
   ],
   "source": [
    "str2.isspace()"
   ]
  },
  {
   "cell_type": "code",
   "execution_count": 39,
   "id": "7f802788",
   "metadata": {},
   "outputs": [
    {
     "name": "stdout",
     "output_type": "stream",
     "text": [
      "sorry, something written in that str\n"
     ]
    }
   ],
   "source": [
    "str3 = \"Krishna\"\n",
    "if (str3.isspace()):\n",
    "    print(\"It's whole empty\")\n",
    "else:\n",
    "    print(\"sorry, something written in that str\")"
   ]
  },
  {
   "cell_type": "code",
   "execution_count": 40,
   "id": "ce19f9f4",
   "metadata": {},
   "outputs": [
    {
     "data": {
      "text/plain": [
       "True"
      ]
     },
     "execution_count": 40,
     "metadata": {},
     "output_type": "execute_result"
    }
   ],
   "source": [
    "str2.endswith(\"T\")"
   ]
  },
  {
   "cell_type": "code",
   "execution_count": 41,
   "id": "0f8bb5fd",
   "metadata": {},
   "outputs": [
    {
     "data": {
      "text/plain": [
       "True"
      ]
     },
     "execution_count": 41,
     "metadata": {},
     "output_type": "execute_result"
    }
   ],
   "source": [
    "str2.startswith(\"V\")"
   ]
  },
  {
   "cell_type": "code",
   "execution_count": 42,
   "id": "34222c34",
   "metadata": {},
   "outputs": [
    {
     "data": {
      "text/plain": [
       "False"
      ]
     },
     "execution_count": 42,
     "metadata": {},
     "output_type": "execute_result"
    }
   ],
   "source": [
    "# Check the if all the string are i alphanumeric\n",
    "a = \"abcd1234\"\n",
    "a.isalpha()"
   ]
  },
  {
   "cell_type": "code",
   "execution_count": 43,
   "id": "d578df1c",
   "metadata": {},
   "outputs": [
    {
     "data": {
      "text/plain": [
       "True"
      ]
     },
     "execution_count": 43,
     "metadata": {},
     "output_type": "execute_result"
    }
   ],
   "source": [
    "a.isalnum()"
   ]
  },
  {
   "cell_type": "code",
   "execution_count": 44,
   "id": "7149426e",
   "metadata": {},
   "outputs": [
    {
     "name": "stdout",
     "output_type": "stream",
     "text": [
      "12\n"
     ]
    }
   ],
   "source": [
    "str2 = \"TwoDimension\"\n",
    "count = 0\n",
    "for i in str2:\n",
    "    count = count+1\n",
    "print(count)"
   ]
  },
  {
   "cell_type": "code",
   "execution_count": 45,
   "id": "865b77a2",
   "metadata": {},
   "outputs": [
    {
     "data": {
      "text/plain": [
       "12"
      ]
     },
     "execution_count": 45,
     "metadata": {},
     "output_type": "execute_result"
    }
   ],
   "source": [
    "len(str2)"
   ]
  },
  {
   "cell_type": "code",
   "execution_count": 46,
   "id": "f7387779",
   "metadata": {},
   "outputs": [
    {
     "name": "stdout",
     "output_type": "stream",
     "text": [
      "T w o D i m e n s i o n "
     ]
    }
   ],
   "source": [
    "for i in str2:\n",
    "    print(i,end = \" \")"
   ]
  },
  {
   "cell_type": "code",
   "execution_count": 47,
   "id": "c4a3c139",
   "metadata": {},
   "outputs": [
    {
     "name": "stdout",
     "output_type": "stream",
     "text": [
      "0   T\n",
      "1   w\n",
      "2   o\n",
      "3   D\n",
      "4   i\n",
      "5   m\n",
      "6   e\n",
      "7   n\n",
      "8   s\n",
      "9   i\n",
      "10   o\n",
      "11   n\n"
     ]
    }
   ],
   "source": [
    "for i in range(len(str2)):\n",
    "    print(i,\" \",str2[i])"
   ]
  },
  {
   "cell_type": "code",
   "execution_count": 48,
   "id": "048e073c",
   "metadata": {},
   "outputs": [],
   "source": [
    "# List"
   ]
  },
  {
   "cell_type": "code",
   "execution_count": 49,
   "id": "14d15b78",
   "metadata": {},
   "outputs": [
    {
     "data": {
      "text/plain": [
       "list"
      ]
     },
     "execution_count": 49,
     "metadata": {},
     "output_type": "execute_result"
    }
   ],
   "source": [
    "type([])"
   ]
  },
  {
   "cell_type": "code",
   "execution_count": 50,
   "id": "fc791d3c",
   "metadata": {},
   "outputs": [
    {
     "data": {
      "text/plain": [
       "['Krish', 'Naik', 'TwoDimension', '32']"
      ]
     },
     "execution_count": 50,
     "metadata": {},
     "output_type": "execute_result"
    }
   ],
   "source": [
    "[\"Krish\",\"Naik\",\"TwoDimension\",\"32\"]"
   ]
  },
  {
   "cell_type": "code",
   "execution_count": 51,
   "id": "bbaf5a2a",
   "metadata": {},
   "outputs": [
    {
     "data": {
      "text/plain": [
       "[1, 2, 3, 4, 5, 6]"
      ]
     },
     "execution_count": 51,
     "metadata": {},
     "output_type": "execute_result"
    }
   ],
   "source": [
    "list([1,2,3,4,5,6])"
   ]
  },
  {
   "cell_type": "code",
   "execution_count": 52,
   "id": "cdf52956",
   "metadata": {},
   "outputs": [],
   "source": [
    "str1 = \"Krishna\"\n"
   ]
  },
  {
   "cell_type": "code",
   "execution_count": 53,
   "id": "9ffeb390",
   "metadata": {},
   "outputs": [
    {
     "data": {
      "text/plain": [
       "['Krishna']"
      ]
     },
     "execution_count": 53,
     "metadata": {},
     "output_type": "execute_result"
    }
   ],
   "source": [
    "list([str1])"
   ]
  },
  {
   "cell_type": "code",
   "execution_count": 54,
   "id": "81377640",
   "metadata": {},
   "outputs": [
    {
     "data": {
      "text/plain": [
       "['K', 'r', 'i', 's', 'h', 'n', 'a']"
      ]
     },
     "execution_count": 54,
     "metadata": {},
     "output_type": "execute_result"
    }
   ],
   "source": [
    "list(str1)"
   ]
  },
  {
   "cell_type": "code",
   "execution_count": 55,
   "id": "ea61c290",
   "metadata": {},
   "outputs": [],
   "source": [
    "str2 = \"My name is Krishna\""
   ]
  },
  {
   "cell_type": "code",
   "execution_count": 56,
   "id": "33644cb1",
   "metadata": {},
   "outputs": [
    {
     "data": {
      "text/plain": [
       "['My', 'name', 'is', 'Krishna']"
      ]
     },
     "execution_count": 56,
     "metadata": {},
     "output_type": "execute_result"
    }
   ],
   "source": [
    "lst1 = list(str2.split())\n",
    "lst1"
   ]
  },
  {
   "cell_type": "code",
   "execution_count": 57,
   "id": "6df10494",
   "metadata": {},
   "outputs": [
    {
     "data": {
      "text/plain": [
       "['name', 'is', 'Krishna']"
      ]
     },
     "execution_count": 57,
     "metadata": {},
     "output_type": "execute_result"
    }
   ],
   "source": [
    "lst1[1:]"
   ]
  },
  {
   "cell_type": "code",
   "execution_count": 58,
   "id": "7711387b",
   "metadata": {},
   "outputs": [
    {
     "data": {
      "text/plain": [
       "['My', 'name', 'is', 'Krishna']"
      ]
     },
     "execution_count": 58,
     "metadata": {},
     "output_type": "execute_result"
    }
   ],
   "source": [
    "lst2 = list(list(str2.split()))\n",
    "lst2"
   ]
  },
  {
   "cell_type": "code",
   "execution_count": 59,
   "id": "303f0cfe",
   "metadata": {},
   "outputs": [
    {
     "data": {
      "text/plain": [
       "['Krishna', 'is', 'name', 'My']"
      ]
     },
     "execution_count": 59,
     "metadata": {},
     "output_type": "execute_result"
    }
   ],
   "source": [
    "lst2[::-1]"
   ]
  },
  {
   "cell_type": "code",
   "execution_count": 60,
   "id": "7b1b3691",
   "metadata": {},
   "outputs": [
    {
     "data": {
      "text/plain": [
       "['My', 'name', 'is', 'Ketan']"
      ]
     },
     "execution_count": 60,
     "metadata": {},
     "output_type": "execute_result"
    }
   ],
   "source": [
    "lst2[3]=\"Ketan\"\n",
    "lst2"
   ]
  },
  {
   "cell_type": "code",
   "execution_count": 61,
   "id": "a9d33b2a",
   "metadata": {},
   "outputs": [
    {
     "data": {
      "text/plain": [
       "['M',\n",
       " 'y',\n",
       " ' ',\n",
       " 'n',\n",
       " 'a',\n",
       " 'm',\n",
       " 'e',\n",
       " ' ',\n",
       " 'i',\n",
       " 's',\n",
       " ' ',\n",
       " 'K',\n",
       " 'r',\n",
       " 'i',\n",
       " 's',\n",
       " 'h',\n",
       " 'n',\n",
       " 'a']"
      ]
     },
     "execution_count": 61,
     "metadata": {},
     "output_type": "execute_result"
    }
   ],
   "source": [
    "lst3 = list(str2)\n",
    "lst3"
   ]
  },
  {
   "cell_type": "code",
   "execution_count": 62,
   "id": "bcbd3a8a",
   "metadata": {},
   "outputs": [
    {
     "data": {
      "text/plain": [
       "['a', 'h', 'i', 'K', 's', ' ', 'm', 'n', 'y']"
      ]
     },
     "execution_count": 62,
     "metadata": {},
     "output_type": "execute_result"
    }
   ],
   "source": [
    "lst3[::-2]"
   ]
  },
  {
   "cell_type": "code",
   "execution_count": 63,
   "id": "169656db",
   "metadata": {},
   "outputs": [],
   "source": [
    "lst3[-7] = \"T\""
   ]
  },
  {
   "cell_type": "code",
   "execution_count": 64,
   "id": "fbf1831f",
   "metadata": {},
   "outputs": [
    {
     "data": {
      "text/plain": [
       "['M',\n",
       " 'y',\n",
       " ' ',\n",
       " 'n',\n",
       " 'a',\n",
       " 'm',\n",
       " 'e',\n",
       " ' ',\n",
       " 'i',\n",
       " 's',\n",
       " ' ',\n",
       " 'T',\n",
       " 'r',\n",
       " 'i',\n",
       " 's',\n",
       " 'h',\n",
       " 'n',\n",
       " 'a']"
      ]
     },
     "execution_count": 64,
     "metadata": {},
     "output_type": "execute_result"
    }
   ],
   "source": [
    "lst3"
   ]
  },
  {
   "cell_type": "code",
   "execution_count": 65,
   "id": "2a09e595",
   "metadata": {},
   "outputs": [
    {
     "data": {
      "text/plain": [
       "'My name is Krishna Baraskar'"
      ]
     },
     "execution_count": 65,
     "metadata": {},
     "output_type": "execute_result"
    }
   ],
   "source": [
    "str4 = \"My name is Krishna Baraskar\"\n",
    "str4"
   ]
  },
  {
   "cell_type": "code",
   "execution_count": 66,
   "id": "8c91b3c6",
   "metadata": {},
   "outputs": [
    {
     "data": {
      "text/plain": [
       "['My', 'name', 'is', 'Krishna', 'Baraskar']"
      ]
     },
     "execution_count": 66,
     "metadata": {},
     "output_type": "execute_result"
    }
   ],
   "source": [
    "lst4 = list(str4.split())\n",
    "lst4"
   ]
  },
  {
   "cell_type": "code",
   "execution_count": 67,
   "id": "60cad357",
   "metadata": {},
   "outputs": [
    {
     "data": {
      "text/plain": [
       "['My', 'name', 'is', 'Krishna', 'Baraskar', 'Hello', 4]"
      ]
     },
     "execution_count": 67,
     "metadata": {},
     "output_type": "execute_result"
    }
   ],
   "source": [
    "# concatenate operation\n",
    "lst5 = lst4 + [\"Hello\",4]\n",
    "lst5"
   ]
  },
  {
   "cell_type": "code",
   "execution_count": 68,
   "id": "1680a070",
   "metadata": {},
   "outputs": [
    {
     "data": {
      "text/plain": [
       "['My',\n",
       " 'name',\n",
       " 'is',\n",
       " 'Krishna',\n",
       " 'Baraskar',\n",
       " 'My',\n",
       " 'name',\n",
       " 'is',\n",
       " 'Krishna',\n",
       " 'Baraskar']"
      ]
     },
     "execution_count": 68,
     "metadata": {},
     "output_type": "execute_result"
    }
   ],
   "source": [
    "lst4*2"
   ]
  },
  {
   "cell_type": "code",
   "execution_count": 69,
   "id": "1846e498",
   "metadata": {},
   "outputs": [
    {
     "name": "stdout",
     "output_type": "stream",
     "text": [
      "Present sir\n"
     ]
    }
   ],
   "source": [
    "if \"Krishna\" in lst4:\n",
    "    print(\"Present sir\")"
   ]
  },
  {
   "cell_type": "code",
   "execution_count": 70,
   "id": "2aa7d656",
   "metadata": {},
   "outputs": [
    {
     "data": {
      "text/plain": [
       "True"
      ]
     },
     "execution_count": 70,
     "metadata": {},
     "output_type": "execute_result"
    }
   ],
   "source": [
    "# Check element insidea list\n",
    "lst = [1,2,3,4]\n",
    "4 in lst"
   ]
  },
  {
   "cell_type": "code",
   "execution_count": 71,
   "id": "e048caaa",
   "metadata": {},
   "outputs": [],
   "source": [
    "lst6 = [\"Zebra\",\"Monkey\",\"Donkey\",\"Lion\"]\n",
    "lst7 = [1,2,3,4,6,5,7,6,9]"
   ]
  },
  {
   "cell_type": "code",
   "execution_count": 72,
   "id": "95c597d9",
   "metadata": {},
   "outputs": [
    {
     "data": {
      "text/plain": [
       "'Zebra'"
      ]
     },
     "execution_count": 72,
     "metadata": {},
     "output_type": "execute_result"
    }
   ],
   "source": [
    "max(lst6)"
   ]
  },
  {
   "cell_type": "code",
   "execution_count": 73,
   "id": "d60f72d5",
   "metadata": {},
   "outputs": [
    {
     "data": {
      "text/plain": [
       "'Donkey'"
      ]
     },
     "execution_count": 73,
     "metadata": {},
     "output_type": "execute_result"
    }
   ],
   "source": [
    "min(lst6)"
   ]
  },
  {
   "cell_type": "code",
   "execution_count": 74,
   "id": "8f29620a",
   "metadata": {},
   "outputs": [
    {
     "data": {
      "text/plain": [
       "9"
      ]
     },
     "execution_count": 74,
     "metadata": {},
     "output_type": "execute_result"
    }
   ],
   "source": [
    "max(lst7)"
   ]
  },
  {
   "cell_type": "code",
   "execution_count": 75,
   "id": "4f2ee22e",
   "metadata": {},
   "outputs": [
    {
     "data": {
      "text/plain": [
       "1"
      ]
     },
     "execution_count": 75,
     "metadata": {},
     "output_type": "execute_result"
    }
   ],
   "source": [
    "min(lst7)"
   ]
  },
  {
   "cell_type": "code",
   "execution_count": 76,
   "id": "c2aebc33",
   "metadata": {},
   "outputs": [],
   "source": [
    "# Append"
   ]
  },
  {
   "cell_type": "code",
   "execution_count": 77,
   "id": "ea4fc4c2",
   "metadata": {},
   "outputs": [
    {
     "data": {
      "text/plain": [
       "[1, 2, 3, 4, 6, 5, 7, 6, 9, 100]"
      ]
     },
     "execution_count": 77,
     "metadata": {},
     "output_type": "execute_result"
    }
   ],
   "source": [
    "lst7.append(100)\n",
    "lst7"
   ]
  },
  {
   "cell_type": "code",
   "execution_count": 78,
   "id": "f1a724ad",
   "metadata": {},
   "outputs": [
    {
     "data": {
      "text/plain": [
       "['Zebra', 'Monkey', 'Donkey', 'Lion', 'Apple']"
      ]
     },
     "execution_count": 78,
     "metadata": {},
     "output_type": "execute_result"
    }
   ],
   "source": [
    "lst6.append(\"Apple\")\n",
    "lst6"
   ]
  },
  {
   "cell_type": "code",
   "execution_count": 79,
   "id": "b816e319",
   "metadata": {},
   "outputs": [
    {
     "data": {
      "text/plain": [
       "['Zebra', 'Monkey', 'Donkey', 'Lion']"
      ]
     },
     "execution_count": 79,
     "metadata": {},
     "output_type": "execute_result"
    }
   ],
   "source": [
    "lst6.pop()\n",
    "lst6"
   ]
  },
  {
   "cell_type": "code",
   "execution_count": 80,
   "id": "abfc8035",
   "metadata": {},
   "outputs": [
    {
     "data": {
      "text/plain": [
       "[2, 3, 4, 6, 5, 7, 6, 9, 100]"
      ]
     },
     "execution_count": 80,
     "metadata": {},
     "output_type": "execute_result"
    }
   ],
   "source": [
    "lst7.pop(0)\n",
    "lst7"
   ]
  },
  {
   "cell_type": "code",
   "execution_count": 81,
   "id": "27eba097",
   "metadata": {},
   "outputs": [],
   "source": [
    "# Sorting and Reversed Wethod in list"
   ]
  },
  {
   "cell_type": "code",
   "execution_count": 82,
   "id": "a77dc86d",
   "metadata": {},
   "outputs": [
    {
     "data": {
      "text/plain": [
       "['q', 'w', 'e', 'r', 't', 'y']"
      ]
     },
     "execution_count": 82,
     "metadata": {},
     "output_type": "execute_result"
    }
   ],
   "source": [
    "new_list = ['q','w','e','r','t','y']\n",
    "new_list"
   ]
  },
  {
   "cell_type": "code",
   "execution_count": 83,
   "id": "a1d10e05",
   "metadata": {},
   "outputs": [
    {
     "data": {
      "text/plain": [
       "['y', 't', 'r', 'e', 'w', 'q']"
      ]
     },
     "execution_count": 83,
     "metadata": {},
     "output_type": "execute_result"
    }
   ],
   "source": [
    "new_list[::-1]"
   ]
  },
  {
   "cell_type": "code",
   "execution_count": 84,
   "id": "751bdb3a",
   "metadata": {},
   "outputs": [],
   "source": [
    "# inplace"
   ]
  },
  {
   "cell_type": "code",
   "execution_count": 85,
   "id": "0eb4564b",
   "metadata": {},
   "outputs": [
    {
     "data": {
      "text/plain": [
       "['y', 't', 'r', 'e', 'w', 'q']"
      ]
     },
     "execution_count": 85,
     "metadata": {},
     "output_type": "execute_result"
    }
   ],
   "source": [
    "new_list.reverse()\n",
    "new_list"
   ]
  },
  {
   "cell_type": "code",
   "execution_count": 86,
   "id": "69e12cdf",
   "metadata": {},
   "outputs": [
    {
     "data": {
      "text/plain": [
       "['e', 'q', 'r', 't', 'w', 'y']"
      ]
     },
     "execution_count": 86,
     "metadata": {},
     "output_type": "execute_result"
    }
   ],
   "source": [
    "new_list.sort()\n",
    "new_list"
   ]
  },
  {
   "cell_type": "code",
   "execution_count": 87,
   "id": "8b01d6be",
   "metadata": {},
   "outputs": [
    {
     "data": {
      "text/plain": [
       "['y', 'w', 't', 'r', 'q', 'e']"
      ]
     },
     "execution_count": 87,
     "metadata": {},
     "output_type": "execute_result"
    }
   ],
   "source": [
    "new_list.sort(reverse = True)\n",
    "new_list"
   ]
  },
  {
   "cell_type": "code",
   "execution_count": 88,
   "id": "b347bb7c",
   "metadata": {},
   "outputs": [
    {
     "data": {
      "text/plain": [
       "[1, 2, 3, 4]"
      ]
     },
     "execution_count": 88,
     "metadata": {},
     "output_type": "execute_result"
    }
   ],
   "source": [
    "lst"
   ]
  },
  {
   "cell_type": "code",
   "execution_count": 89,
   "id": "5367de63",
   "metadata": {},
   "outputs": [
    {
     "data": {
      "text/plain": [
       "[1, 2, 3, 4, ['Two', 'Dimension']]"
      ]
     },
     "execution_count": 89,
     "metadata": {},
     "output_type": "execute_result"
    }
   ],
   "source": [
    "lst.append([\"Two\",\"Dimension\"])\n",
    "lst"
   ]
  },
  {
   "cell_type": "code",
   "execution_count": 90,
   "id": "0e01bc9e",
   "metadata": {},
   "outputs": [
    {
     "data": {
      "text/plain": [
       "[1, 2, 3, 4, ['Two', 'Dimension'], 'Amar', 'Akabar', 'Anathany']"
      ]
     },
     "execution_count": 90,
     "metadata": {},
     "output_type": "execute_result"
    }
   ],
   "source": [
    "lst.extend([\"Amar\",\"Akabar\",\"Anathany\"])\n",
    "lst"
   ]
  },
  {
   "cell_type": "code",
   "execution_count": 91,
   "id": "c82cf8a1",
   "metadata": {},
   "outputs": [],
   "source": [
    "# Nested List"
   ]
  },
  {
   "cell_type": "code",
   "execution_count": 92,
   "id": "ef8bf95b",
   "metadata": {},
   "outputs": [
    {
     "data": {
      "text/plain": [
       "[[1, 2, 3], [4, 5, 6], [7, 8, 9]]"
      ]
     },
     "execution_count": 92,
     "metadata": {},
     "output_type": "execute_result"
    }
   ],
   "source": [
    "lst_1 = [1,2,3]\n",
    "lst_2 = [4,5,6]\n",
    "lst_3 = [7,8,9]\n",
    "\n",
    "# Make a list of lists to form a matrix\n",
    "matrix = [lst_1,lst_2,lst_3]\n",
    "matrix"
   ]
  },
  {
   "cell_type": "code",
   "execution_count": 93,
   "id": "d9a8dfe7",
   "metadata": {},
   "outputs": [
    {
     "data": {
      "text/plain": [
       "6"
      ]
     },
     "execution_count": 93,
     "metadata": {},
     "output_type": "execute_result"
    }
   ],
   "source": [
    "matrix[1][2]"
   ]
  },
  {
   "cell_type": "code",
   "execution_count": 94,
   "id": "17ca40c7",
   "metadata": {},
   "outputs": [
    {
     "data": {
      "text/plain": [
       "7"
      ]
     },
     "execution_count": 94,
     "metadata": {},
     "output_type": "execute_result"
    }
   ],
   "source": [
    "matrix[2][0]"
   ]
  },
  {
   "cell_type": "code",
   "execution_count": 95,
   "id": "93b3deeb",
   "metadata": {},
   "outputs": [
    {
     "data": {
      "text/plain": [
       "[0, 1, 2, 3, 4, 5, 6, 7, 8, 9, 10, 11, 12, 13, 14, 15, 16, 17, 18, 19]"
      ]
     },
     "execution_count": 95,
     "metadata": {},
     "output_type": "execute_result"
    }
   ],
   "source": [
    "# List Comprehesion\n",
    "[i for i in range(20)]"
   ]
  },
  {
   "cell_type": "code",
   "execution_count": 96,
   "id": "5da4eb5d",
   "metadata": {},
   "outputs": [
    {
     "data": {
      "text/plain": [
       "[0,\n",
       " 'ODD',\n",
       " 2,\n",
       " 'ODD',\n",
       " 4,\n",
       " 'ODD',\n",
       " 6,\n",
       " 'ODD',\n",
       " 8,\n",
       " 'ODD',\n",
       " 10,\n",
       " 'ODD',\n",
       " 12,\n",
       " 'ODD',\n",
       " 14,\n",
       " 'ODD',\n",
       " 16,\n",
       " 'ODD',\n",
       " 18,\n",
       " 'ODD']"
      ]
     },
     "execution_count": 96,
     "metadata": {},
     "output_type": "execute_result"
    }
   ],
   "source": [
    "# Even Number\n",
    "[i if i%2 == 0 else \"ODD\" for i in range(20)]"
   ]
  },
  {
   "cell_type": "code",
   "execution_count": 97,
   "id": "5f9fec24",
   "metadata": {},
   "outputs": [
    {
     "data": {
      "text/plain": [
       "[0, 2, 4, 6, 8, 10, 12, 14, 16, 18]"
      ]
     },
     "execution_count": 97,
     "metadata": {},
     "output_type": "execute_result"
    }
   ],
   "source": [
    "#Even Numbers\n",
    "[i for i in range(0,20,2)]"
   ]
  },
  {
   "cell_type": "code",
   "execution_count": 98,
   "id": "9e40b65d",
   "metadata": {},
   "outputs": [
    {
     "data": {
      "text/plain": [
       "[0, 2, 4, 6, 8, 10, 12, 14, 16, 18]"
      ]
     },
     "execution_count": 98,
     "metadata": {},
     "output_type": "execute_result"
    }
   ],
   "source": [
    "[i for i in range(20) if i%2==0]"
   ]
  },
  {
   "cell_type": "code",
   "execution_count": 99,
   "id": "0ae6540f",
   "metadata": {},
   "outputs": [
    {
     "data": {
      "text/plain": [
       "2450"
      ]
     },
     "execution_count": 99,
     "metadata": {},
     "output_type": "execute_result"
    }
   ],
   "source": [
    "sum_evenNymbers = sum([i for i in range(0,100,2)])\n",
    "sum_evenNymbers"
   ]
  },
  {
   "cell_type": "code",
   "execution_count": 100,
   "id": "b9491dd2",
   "metadata": {},
   "outputs": [
    {
     "data": {
      "text/plain": [
       "['Even',\n",
       " 1,\n",
       " 'Even',\n",
       " 3,\n",
       " 'Even',\n",
       " 5,\n",
       " 'Even',\n",
       " 7,\n",
       " 'Even',\n",
       " 9,\n",
       " 'Even',\n",
       " 11,\n",
       " 'Even',\n",
       " 13,\n",
       " 'Even',\n",
       " 15,\n",
       " 'Even',\n",
       " 17,\n",
       " 'Even',\n",
       " 19]"
      ]
     },
     "execution_count": 100,
     "metadata": {},
     "output_type": "execute_result"
    }
   ],
   "source": [
    "# ODD Numbers\n",
    "ODD_Numbers = [i if i%2!=0 else \"Even\" for i in range(20)]\n",
    "ODD_Numbers"
   ]
  },
  {
   "cell_type": "code",
   "execution_count": 101,
   "id": "0983ce2b",
   "metadata": {},
   "outputs": [
    {
     "data": {
      "text/plain": [
       "[1, 3, 5, 7, 9, 11, 13, 15, 17, 19]"
      ]
     },
     "execution_count": 101,
     "metadata": {},
     "output_type": "execute_result"
    }
   ],
   "source": [
    "ODD_Numbers = [i for i in range(1,20,2)]\n",
    "ODD_Numbers"
   ]
  },
  {
   "cell_type": "code",
   "execution_count": 102,
   "id": "514f9aa7",
   "metadata": {},
   "outputs": [
    {
     "data": {
      "text/plain": [
       "[1, 3, 5, 7, 9, 11, 13, 15, 17, 19]"
      ]
     },
     "execution_count": 102,
     "metadata": {},
     "output_type": "execute_result"
    }
   ],
   "source": [
    "ODD_Numbers = [i for i in range(20) if i%2!=0]\n",
    "ODD_Numbers"
   ]
  },
  {
   "cell_type": "code",
   "execution_count": 103,
   "id": "38ccd364",
   "metadata": {},
   "outputs": [
    {
     "data": {
      "text/plain": [
       "2500"
      ]
     },
     "execution_count": 103,
     "metadata": {},
     "output_type": "execute_result"
    }
   ],
   "source": [
    "sum_oddNumbers = sum([i for i in range(1,100,2)])\n",
    "sum_oddNumbers\n"
   ]
  },
  {
   "cell_type": "code",
   "execution_count": 104,
   "id": "f705b6ec",
   "metadata": {},
   "outputs": [
    {
     "data": {
      "text/plain": [
       "[0,\n",
       " 1,\n",
       " 4,\n",
       " 9,\n",
       " 16,\n",
       " 25,\n",
       " 36,\n",
       " 49,\n",
       " 64,\n",
       " 81,\n",
       " 100,\n",
       " 121,\n",
       " 144,\n",
       " 169,\n",
       " 196,\n",
       " 225,\n",
       " 256,\n",
       " 289,\n",
       " 324,\n",
       " 361]"
      ]
     },
     "execution_count": 104,
     "metadata": {},
     "output_type": "execute_result"
    }
   ],
   "source": [
    "# Ex1. squre of first 20 numbers\n",
    "[i**2 for i in range(20)]"
   ]
  },
  {
   "cell_type": "code",
   "execution_count": 105,
   "id": "5d3c1284",
   "metadata": {},
   "outputs": [
    {
     "name": "stdout",
     "output_type": "stream",
     "text": [
      "[67, 32, 18]\n"
     ]
    }
   ],
   "source": [
    "# Ex2. Create the list which is contains only Positive Numbers\n",
    "lst = [-2,-4,-44,67,-45,-98,32,18]\n",
    "P_lst = [i for i in lst if i >= 0]\n",
    "print(P_lst) "
   ]
  },
  {
   "cell_type": "code",
   "execution_count": 106,
   "id": "ec247a51",
   "metadata": {},
   "outputs": [
    {
     "data": {
      "text/plain": [
       "['T', 'J', 'D', 'N', 'O', 'S', 'I']"
      ]
     },
     "execution_count": 106,
     "metadata": {},
     "output_type": "execute_result"
    }
   ],
   "source": [
    "# Ex3. Create a list of only the first letter of words in a list\n",
    "lst = [\"Tom\",\"Jerry\",'Doremon',\"Nobita\",\"Oggy\",\"Sijuka\",\"Indumati\"]\n",
    "lst_f = [i[0] for i in lst]\n",
    "lst_f"
   ]
  },
  {
   "cell_type": "code",
   "execution_count": 107,
   "id": "73c4fad2",
   "metadata": {},
   "outputs": [
    {
     "data": {
      "text/plain": [
       "[1, 2, 3, 4, 5, 6, 7, 8, 9]"
      ]
     },
     "execution_count": 107,
     "metadata": {},
     "output_type": "execute_result"
    }
   ],
   "source": [
    "# Ex4. Flatten a list of list into in single list\n",
    "lists = [[1,2,3],[4,5,6],[7,8,9]]\n",
    "lists_flat = [z for i in lists for z in i]\n",
    "lists_flat"
   ]
  },
  {
   "cell_type": "code",
   "execution_count": 108,
   "id": "cbc4a727",
   "metadata": {},
   "outputs": [
    {
     "data": {
      "text/plain": [
       "[1, 2, 3, 4, 5, 6, 7, 8, 9]"
      ]
     },
     "execution_count": 108,
     "metadata": {},
     "output_type": "execute_result"
    }
   ],
   "source": [
    "lis = [j for i in lists for j in i]\n",
    "lis"
   ]
  },
  {
   "cell_type": "code",
   "execution_count": 109,
   "id": "a6e6b3f6",
   "metadata": {},
   "outputs": [
    {
     "data": {
      "text/plain": [
       "[2,\n",
       " 3,\n",
       " 5,\n",
       " 7,\n",
       " 11,\n",
       " 13,\n",
       " 17,\n",
       " 19,\n",
       " 23,\n",
       " 29,\n",
       " 31,\n",
       " 37,\n",
       " 41,\n",
       " 43,\n",
       " 47,\n",
       " 53,\n",
       " 59,\n",
       " 61,\n",
       " 67,\n",
       " 71,\n",
       " 73,\n",
       " 79,\n",
       " 83,\n",
       " 89,\n",
       " 97]"
      ]
     },
     "execution_count": 109,
     "metadata": {},
     "output_type": "execute_result"
    }
   ],
   "source": [
    "# Ex5. Create a list of only the prime numbers from the given list\n",
    "numbers = [i for i in range(1,100)]\n",
    "def is_prime(num):\n",
    "    if num <= 1:\n",
    "        return False\n",
    "    for i in range(2,int(num**0.5)+1):\n",
    "        if num % i == 0:\n",
    "            return False\n",
    "    return True\n",
    "    \n",
    "\n",
    "lists_flat = [num for num in numbers if is_prime(num)]\n",
    "lists_flat"
   ]
  },
  {
   "cell_type": "code",
   "execution_count": 110,
   "id": "4cdd9d62",
   "metadata": {},
   "outputs": [
    {
     "data": {
      "text/plain": [
       "[(1, 2), (2, 2), (3, 2), (4, 2), (5, 2), (6, 2)]"
      ]
     },
     "execution_count": 110,
     "metadata": {},
     "output_type": "execute_result"
    }
   ],
   "source": [
    "# Ex6. Create a list of all possible combinations of 2 elements from a list\n",
    "lst = [1,2,3,4,5,6]\n",
    "list_2 = [(i,j) for i in lst for j in lst if j == 2]\n",
    "list_2"
   ]
  },
  {
   "cell_type": "code",
   "execution_count": 111,
   "id": "178b4a84",
   "metadata": {},
   "outputs": [
    {
     "data": {
      "text/plain": [
       "[(1, 1),\n",
       " (1, 2),\n",
       " (1, 3),\n",
       " (1, 4),\n",
       " (1, 5),\n",
       " (1, 6),\n",
       " (2, 1),\n",
       " (2, 2),\n",
       " (2, 3),\n",
       " (2, 4),\n",
       " (2, 5),\n",
       " (2, 6),\n",
       " (3, 1),\n",
       " (3, 2),\n",
       " (3, 3),\n",
       " (3, 4),\n",
       " (3, 5),\n",
       " (3, 6),\n",
       " (4, 1),\n",
       " (4, 2),\n",
       " (4, 3),\n",
       " (4, 4),\n",
       " (4, 5),\n",
       " (4, 6),\n",
       " (5, 1),\n",
       " (5, 2),\n",
       " (5, 3),\n",
       " (5, 4),\n",
       " (5, 5),\n",
       " (5, 6),\n",
       " (6, 1),\n",
       " (6, 2),\n",
       " (6, 3),\n",
       " (6, 4),\n",
       " (6, 5),\n",
       " (6, 6)]"
      ]
     },
     "execution_count": 111,
     "metadata": {},
     "output_type": "execute_result"
    }
   ],
   "source": [
    "list_all = [(i,j) for i in lst for j in lst]\n",
    "list_all"
   ]
  },
  {
   "cell_type": "code",
   "execution_count": null,
   "id": "e77e86d0",
   "metadata": {},
   "outputs": [],
   "source": []
  },
  {
   "cell_type": "code",
   "execution_count": null,
   "id": "17e1f969",
   "metadata": {},
   "outputs": [],
   "source": []
  },
  {
   "cell_type": "code",
   "execution_count": null,
   "id": "63ac8107",
   "metadata": {},
   "outputs": [],
   "source": []
  }
 ],
 "metadata": {
  "kernelspec": {
   "display_name": "Python 3 (ipykernel)",
   "language": "python",
   "name": "python3"
  },
  "language_info": {
   "codemirror_mode": {
    "name": "ipython",
    "version": 3
   },
   "file_extension": ".py",
   "mimetype": "text/x-python",
   "name": "python",
   "nbconvert_exporter": "python",
   "pygments_lexer": "ipython3",
   "version": "3.11.5"
  }
 },
 "nbformat": 4,
 "nbformat_minor": 5
}
