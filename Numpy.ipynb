{
 "cells": [
  {
   "cell_type": "code",
   "execution_count": 1,
   "id": "ddbeab9a",
   "metadata": {},
   "outputs": [],
   "source": [
    "# checking the time consume both "
   ]
  },
  {
   "cell_type": "code",
   "execution_count": 2,
   "id": "8d7e0c5a",
   "metadata": {},
   "outputs": [
    {
     "name": "stdout",
     "output_type": "stream",
     "text": [
      "1.37 µs ± 97.7 ns per loop (mean ± std. dev. of 7 runs, 1,000,000 loops each)\n"
     ]
    }
   ],
   "source": [
    "%timeit [i**4 for i in range(1,10)]"
   ]
  },
  {
   "cell_type": "code",
   "execution_count": 3,
   "id": "a6288eac",
   "metadata": {},
   "outputs": [],
   "source": [
    "import numpy as np"
   ]
  },
  {
   "cell_type": "code",
   "execution_count": 4,
   "id": "20b609cc",
   "metadata": {},
   "outputs": [
    {
     "name": "stdout",
     "output_type": "stream",
     "text": [
      "4.05 µs ± 144 ns per loop (mean ± std. dev. of 7 runs, 100,000 loops each)\n"
     ]
    }
   ],
   "source": [
    "%timeit np.arange(1,10)**4"
   ]
  },
  {
   "cell_type": "code",
   "execution_count": 5,
   "id": "1f24bca3",
   "metadata": {},
   "outputs": [],
   "source": [
    "# Creating Array"
   ]
  },
  {
   "cell_type": "code",
   "execution_count": 6,
   "id": "2f0647d4",
   "metadata": {},
   "outputs": [
    {
     "name": "stdout",
     "output_type": "stream",
     "text": [
      "[1 2 3 4 5]\n"
     ]
    },
    {
     "data": {
      "text/plain": [
       "1"
      ]
     },
     "execution_count": 6,
     "metadata": {},
     "output_type": "execute_result"
    }
   ],
   "source": [
    "import numpy as np # if we import numpy alredy then we dont need import again\n",
    "x = [1,2,3,4,5]\n",
    "\n",
    "y = np.array(x)\n",
    "print(y)\n",
    "type(y)\n",
    "y.ndim"
   ]
  },
  {
   "cell_type": "code",
   "execution_count": 7,
   "id": "3dc89e56",
   "metadata": {},
   "outputs": [
    {
     "name": "stdout",
     "output_type": "stream",
     "text": [
      "[ 1  2  3  4 56 78  9]\n"
     ]
    }
   ],
   "source": [
    "def give_array(numbers):\n",
    "    n = np.array(numbers)\n",
    "    return n\n",
    "m = [1,2,3,4,56,78,9]\n",
    "x = give_array(m)\n",
    "print(x)"
   ]
  },
  {
   "cell_type": "code",
   "execution_count": 8,
   "id": "4b2c2fc5",
   "metadata": {},
   "outputs": [],
   "source": [
    "# Creating Two Dimension Array"
   ]
  },
  {
   "cell_type": "code",
   "execution_count": 9,
   "id": "dbc734f6",
   "metadata": {},
   "outputs": [
    {
     "name": "stdout",
     "output_type": "stream",
     "text": [
      "[[ 1  2  3  4]\n",
      " [ 4  5  6  7]\n",
      " [10 58  6  1]]\n",
      "2\n"
     ]
    }
   ],
   "source": [
    "ar2 = np.array([[1,2,3,4],[4,5,6,7],[10,58,6,1]])\n",
    "print(ar2)\n",
    "print(ar2.ndim)"
   ]
  },
  {
   "cell_type": "code",
   "execution_count": 10,
   "id": "032b3c6c",
   "metadata": {},
   "outputs": [
    {
     "name": "stdout",
     "output_type": "stream",
     "text": [
      "[[ 1  2  3  4]\n",
      " [ 4  5  6  7]\n",
      " [10 58  6  1]]\n",
      "2\n"
     ]
    }
   ],
   "source": [
    "ar2 = np.array([(1,2,3,4),(4,5,6,7),(10,58,6,1)])\n",
    "print(ar2)\n",
    "print(ar2.ndim)"
   ]
  },
  {
   "cell_type": "code",
   "execution_count": 11,
   "id": "d8b8b58f",
   "metadata": {},
   "outputs": [],
   "source": [
    "# Creating Three Dimension Array"
   ]
  },
  {
   "cell_type": "code",
   "execution_count": 12,
   "id": "b3f7c095",
   "metadata": {},
   "outputs": [
    {
     "name": "stdout",
     "output_type": "stream",
     "text": [
      "[[[1 2 3]\n",
      "  [1 4 7]\n",
      "  [1 5 9]\n",
      "  [7 5 3]]]\n",
      "3\n"
     ]
    }
   ],
   "source": [
    "ar3 = np.array([[[1,2,3],[1,4,7],[1,5,9],[7,5,3]]])\n",
    "print(ar3)\n",
    "print(ar3.ndim)"
   ]
  },
  {
   "cell_type": "code",
   "execution_count": 13,
   "id": "42347c0d",
   "metadata": {},
   "outputs": [],
   "source": [
    "# Creating nth Dimension array, \n",
    "# this function is not allowed greater than 32 Dimensions\n",
    "# After that we use NPY_MAXDIMS"
   ]
  },
  {
   "cell_type": "code",
   "execution_count": 14,
   "id": "51c743e8",
   "metadata": {},
   "outputs": [
    {
     "name": "stdout",
     "output_type": "stream",
     "text": [
      "[[[[[[[[[[1 2 3 4]]]]]]]]]]\n"
     ]
    }
   ],
   "source": [
    "arn = np.array([1,2,3,4],ndmin = 10)\n",
    "print(arn)"
   ]
  },
  {
   "cell_type": "code",
   "execution_count": 15,
   "id": "7f85a573",
   "metadata": {},
   "outputs": [],
   "source": [
    "# zeros"
   ]
  },
  {
   "cell_type": "code",
   "execution_count": 16,
   "id": "f7882210",
   "metadata": {},
   "outputs": [
    {
     "data": {
      "text/plain": [
       "array([0., 0., 0., 0., 0.])"
      ]
     },
     "execution_count": 16,
     "metadata": {},
     "output_type": "execute_result"
    }
   ],
   "source": [
    "ar_zero = np.zeros(5)\n",
    "ar_zero"
   ]
  },
  {
   "cell_type": "code",
   "execution_count": 17,
   "id": "00847b53",
   "metadata": {},
   "outputs": [
    {
     "data": {
      "text/plain": [
       "array([[0., 0., 0., 0.],\n",
       "       [0., 0., 0., 0.],\n",
       "       [0., 0., 0., 0.]])"
      ]
     },
     "execution_count": 17,
     "metadata": {},
     "output_type": "execute_result"
    }
   ],
   "source": [
    "ar_tZeros = np.zeros((3,4))\n",
    "ar_tZeros"
   ]
  },
  {
   "cell_type": "code",
   "execution_count": 18,
   "id": "c8a9b135",
   "metadata": {},
   "outputs": [],
   "source": [
    "# Ones"
   ]
  },
  {
   "cell_type": "code",
   "execution_count": 19,
   "id": "df28183b",
   "metadata": {},
   "outputs": [
    {
     "data": {
      "text/plain": [
       "array([[[[1.]]],\n",
       "\n",
       "\n",
       "       [[[1.]]],\n",
       "\n",
       "\n",
       "       [[[1.]]],\n",
       "\n",
       "\n",
       "       [[[1.]]]])"
      ]
     },
     "execution_count": 19,
     "metadata": {},
     "output_type": "execute_result"
    }
   ],
   "source": [
    "ar_fOnens = np.ones((4,1,1,1))\n",
    "ar_fOnens"
   ]
  },
  {
   "cell_type": "code",
   "execution_count": 20,
   "id": "483fc3cd",
   "metadata": {},
   "outputs": [],
   "source": [
    "# Empty"
   ]
  },
  {
   "cell_type": "code",
   "execution_count": 21,
   "id": "e616ed41",
   "metadata": {},
   "outputs": [
    {
     "name": "stdout",
     "output_type": "stream",
     "text": [
      "4\n",
      "<class 'numpy.ndarray'>\n"
     ]
    }
   ],
   "source": [
    "ar = np.array(4)\n",
    "print(ar)\n",
    "print(type(ar))"
   ]
  },
  {
   "cell_type": "code",
   "execution_count": 22,
   "id": "b014157a",
   "metadata": {},
   "outputs": [
    {
     "name": "stdout",
     "output_type": "stream",
     "text": [
      "<class 'numpy.ndarray'>\n"
     ]
    }
   ],
   "source": [
    "empty_array = np.array([])\n",
    "print(type(empty_array))"
   ]
  },
  {
   "cell_type": "code",
   "execution_count": 23,
   "id": "f3387c40",
   "metadata": {},
   "outputs": [],
   "source": [
    "# Range"
   ]
  },
  {
   "cell_type": "code",
   "execution_count": 24,
   "id": "52d39dca",
   "metadata": {},
   "outputs": [
    {
     "data": {
      "text/plain": [
       "array([1, 2, 3, 4, 5, 6, 7, 8, 9])"
      ]
     },
     "execution_count": 24,
     "metadata": {},
     "output_type": "execute_result"
    }
   ],
   "source": [
    "arr = np.arange(1,10)\n",
    "arr"
   ]
  },
  {
   "cell_type": "code",
   "execution_count": 25,
   "id": "cd809661",
   "metadata": {},
   "outputs": [],
   "source": [
    "# Digonal"
   ]
  },
  {
   "cell_type": "code",
   "execution_count": 26,
   "id": "88580b28",
   "metadata": {},
   "outputs": [
    {
     "data": {
      "text/plain": [
       "array([[1., 0., 0.],\n",
       "       [0., 1., 0.],\n",
       "       [0., 0., 1.]])"
      ]
     },
     "execution_count": 26,
     "metadata": {},
     "output_type": "execute_result"
    }
   ],
   "source": [
    "ar_dig = np.eye(3)\n",
    "ar_dig"
   ]
  },
  {
   "cell_type": "code",
   "execution_count": 27,
   "id": "ffa5cedd",
   "metadata": {},
   "outputs": [],
   "source": [
    "# Linspace"
   ]
  },
  {
   "cell_type": "code",
   "execution_count": 28,
   "id": "ab023ce5",
   "metadata": {},
   "outputs": [
    {
     "data": {
      "text/plain": [
       "array([ 1.,  2.,  3.,  4.,  5.,  6.,  7.,  8.,  9., 10.])"
      ]
     },
     "execution_count": 28,
     "metadata": {},
     "output_type": "execute_result"
    }
   ],
   "source": [
    "ay =np.linspace(1,10,10)\n",
    "ay"
   ]
  },
  {
   "cell_type": "code",
   "execution_count": 29,
   "id": "ab69d802",
   "metadata": {},
   "outputs": [],
   "source": [
    "# Rand() Functom"
   ]
  },
  {
   "cell_type": "code",
   "execution_count": 30,
   "id": "54c6d0d2",
   "metadata": {},
   "outputs": [
    {
     "data": {
      "text/plain": [
       "array([[[0.99451719, 0.07619114]],\n",
       "\n",
       "       [[0.22070101, 0.57816616]],\n",
       "\n",
       "       [[0.30654836, 0.1676371 ]],\n",
       "\n",
       "       [[0.61970686, 0.33237589]],\n",
       "\n",
       "       [[0.85174288, 0.32444056]]])"
      ]
     },
     "execution_count": 30,
     "metadata": {},
     "output_type": "execute_result"
    }
   ],
   "source": [
    "a = np.random.rand(5,1,2)\n",
    "a"
   ]
  },
  {
   "cell_type": "code",
   "execution_count": 31,
   "id": "1339aa65",
   "metadata": {},
   "outputs": [],
   "source": [
    "# randn() Function"
   ]
  },
  {
   "cell_type": "code",
   "execution_count": 32,
   "id": "798501f8",
   "metadata": {},
   "outputs": [
    {
     "data": {
      "text/plain": [
       "array([[[ 0.1630503 ],\n",
       "        [-0.64524939],\n",
       "        [ 0.03202913],\n",
       "        [ 1.25249021]],\n",
       "\n",
       "       [[ 0.17370203],\n",
       "        [-1.44074319],\n",
       "        [-1.52441322],\n",
       "        [ 1.65325289]]])"
      ]
     },
     "execution_count": 32,
     "metadata": {},
     "output_type": "execute_result"
    }
   ],
   "source": [
    "b = np.random.randn(2,4,1)\n",
    "b"
   ]
  },
  {
   "cell_type": "code",
   "execution_count": 33,
   "id": "f619acc1",
   "metadata": {},
   "outputs": [],
   "source": [
    "# ranf()"
   ]
  },
  {
   "cell_type": "code",
   "execution_count": 34,
   "id": "6999e1a3",
   "metadata": {},
   "outputs": [
    {
     "data": {
      "text/plain": [
       "array([0.0320407 , 0.02107538, 0.83587967, 0.08655701, 0.92066482,\n",
       "       0.17829419, 0.83957304, 0.12994345, 0.09475271, 0.97033969])"
      ]
     },
     "execution_count": 34,
     "metadata": {},
     "output_type": "execute_result"
    }
   ],
   "source": [
    "c = np.random.ranf(10)\n",
    "c"
   ]
  },
  {
   "cell_type": "code",
   "execution_count": 35,
   "id": "85fb664b",
   "metadata": {},
   "outputs": [],
   "source": [
    "# randint"
   ]
  },
  {
   "cell_type": "code",
   "execution_count": 36,
   "id": "4bb1038f",
   "metadata": {},
   "outputs": [
    {
     "data": {
      "text/plain": [
       "array([33, 18, 48, 11, 22, 11, 22, 25, 40, 16, 45, 25, 22, 46, 37, 49, 14,\n",
       "       30, 22, 39, 36, 42, 10, 37, 16, 18, 28, 31, 42, 44, 29, 37, 32, 34,\n",
       "       28, 34, 11, 40, 41, 32])"
      ]
     },
     "execution_count": 36,
     "metadata": {},
     "output_type": "execute_result"
    }
   ],
   "source": [
    "d = np.random.randint(10,50,40)\n",
    "d"
   ]
  },
  {
   "cell_type": "code",
   "execution_count": 37,
   "id": "417dd745",
   "metadata": {},
   "outputs": [],
   "source": [
    "# Data Type"
   ]
  },
  {
   "cell_type": "code",
   "execution_count": 38,
   "id": "4d8e3292",
   "metadata": {},
   "outputs": [
    {
     "name": "stdout",
     "output_type": "stream",
     "text": [
      "Data Type :  int32\n"
     ]
    }
   ],
   "source": [
    "var = np.array([1,2,3,4,85,65,78,94,12])\n",
    "print(\"Data Type : \",var.dtype)"
   ]
  },
  {
   "cell_type": "code",
   "execution_count": 39,
   "id": "5a716956",
   "metadata": {},
   "outputs": [
    {
     "data": {
      "text/plain": [
       "array(['A', 'B', 'C', 'D'], dtype='<U1')"
      ]
     },
     "execution_count": 39,
     "metadata": {},
     "output_type": "execute_result"
    }
   ],
   "source": [
    "vr = np.array([\"A\",\"B\",\"C\",\"D\"])\n",
    "vr"
   ]
  },
  {
   "cell_type": "code",
   "execution_count": 40,
   "id": "08ee35d1",
   "metadata": {},
   "outputs": [
    {
     "data": {
      "text/plain": [
       "array(['A', 'B', 'C', 'D', '1', '2', '3', '4'], dtype='<U11')"
      ]
     },
     "execution_count": 40,
     "metadata": {},
     "output_type": "execute_result"
    }
   ],
   "source": [
    "v = np.array([\"A\",\"B\",\"C\",\"D\",1,2,3,4])\n",
    "v"
   ]
  },
  {
   "cell_type": "code",
   "execution_count": 41,
   "id": "83650f8e",
   "metadata": {},
   "outputs": [],
   "source": [
    "# Data Typecasting for Array"
   ]
  },
  {
   "cell_type": "code",
   "execution_count": 42,
   "id": "a5447cdc",
   "metadata": {},
   "outputs": [
    {
     "name": "stdout",
     "output_type": "stream",
     "text": [
      "[ 1  2  3 45 68 94  2  5  6 78  2 58 91  3 45 18]\n"
     ]
    },
    {
     "data": {
      "text/plain": [
       "dtype('int64')"
      ]
     },
     "execution_count": 42,
     "metadata": {},
     "output_type": "execute_result"
    }
   ],
   "source": [
    "arr = np.array([1,2,3,45,68,94,2,5,6,78,2,58,91,3,45,18], dtype = np.int64)\n",
    "\n",
    "print(arr)\n",
    "arr.dtype"
   ]
  },
  {
   "cell_type": "code",
   "execution_count": 43,
   "id": "8f8873b3",
   "metadata": {},
   "outputs": [
    {
     "name": "stdout",
     "output_type": "stream",
     "text": [
      "[ 1.  2.  3. 45. 68. 94.  2.  5.  6. 78.  2. 58. 91.  3. 45. 18.]\n"
     ]
    },
    {
     "data": {
      "text/plain": [
       "dtype('float32')"
      ]
     },
     "execution_count": 43,
     "metadata": {},
     "output_type": "execute_result"
    }
   ],
   "source": [
    "ar1 = np.array([1,2,3,45,68,94,2,5,6,78,2,58,91,3,45,18], dtype = \"f\")\n",
    "\n",
    "print(ar1)\n",
    "ar1.dtype"
   ]
  },
  {
   "cell_type": "code",
   "execution_count": 44,
   "id": "0b6ebb0c",
   "metadata": {},
   "outputs": [
    {
     "name": "stdout",
     "output_type": "stream",
     "text": [
      "int64\n",
      "float32\n",
      "[ True  True  True  True  True]\n"
     ]
    }
   ],
   "source": [
    "ar2 = np.array([1,2,3,4,5])\n",
    "new = np.float32(ar2)\n",
    "newb = np.bool_(ar2)\n",
    "print(arr.dtype)\n",
    "print(new.dtype)\n",
    "print(newb)"
   ]
  },
  {
   "cell_type": "code",
   "execution_count": 45,
   "id": "255f8756",
   "metadata": {},
   "outputs": [
    {
     "data": {
      "text/plain": [
       "array([1., 2., 3., 4., 5.])"
      ]
     },
     "execution_count": 45,
     "metadata": {},
     "output_type": "execute_result"
    }
   ],
   "source": [
    "ar2.astype(float)"
   ]
  },
  {
   "cell_type": "code",
   "execution_count": 46,
   "id": "4b34533a",
   "metadata": {},
   "outputs": [],
   "source": [
    "# Arithmatic Operations in Array"
   ]
  },
  {
   "cell_type": "code",
   "execution_count": 47,
   "id": "55fc5ea9",
   "metadata": {},
   "outputs": [],
   "source": [
    "a = np.array([10,20,30,40,50])\n",
    "b = np.array([60,70,80,90,100])"
   ]
  },
  {
   "cell_type": "code",
   "execution_count": 48,
   "id": "2e529e48",
   "metadata": {},
   "outputs": [
    {
     "name": "stdout",
     "output_type": "stream",
     "text": [
      "[ 70  90 110 130 150]\n",
      "[13 23 33 43 53]\n"
     ]
    }
   ],
   "source": [
    "# Addition\n",
    "add = np.add(a,b)\n",
    "print(add)\n",
    "print(a + 3)"
   ]
  },
  {
   "cell_type": "code",
   "execution_count": 49,
   "id": "853cd816",
   "metadata": {},
   "outputs": [
    {
     "name": "stdout",
     "output_type": "stream",
     "text": [
      "[50 50 50 50 50]\n",
      "[ 5 15 25 35 45]\n"
     ]
    }
   ],
   "source": [
    "#Substraction\n",
    "sub = np.subtract(b,a)\n",
    "print(sub)\n",
    "print(a - 5)"
   ]
  },
  {
   "cell_type": "code",
   "execution_count": 50,
   "id": "818b2916",
   "metadata": {},
   "outputs": [
    {
     "name": "stdout",
     "output_type": "stream",
     "text": [
      "[ 600 1400 2400 3600 5000]\n",
      "[ 50 100 150 200 250]\n"
     ]
    }
   ],
   "source": [
    "# Multification\n",
    "mul = np.multiply(a,b)\n",
    "print(mul)\n",
    "print(a * 5)"
   ]
  },
  {
   "cell_type": "code",
   "execution_count": 51,
   "id": "b5e5e1bb",
   "metadata": {},
   "outputs": [
    {
     "name": "stdout",
     "output_type": "stream",
     "text": [
      "[6.         3.5        2.66666667 2.25       2.        ]\n",
      "[ 5. 10. 15. 20. 25.]\n"
     ]
    }
   ],
   "source": [
    "# Division \n",
    "div = np.divide(b,a)\n",
    "print(div)\n",
    "print(a/2)"
   ]
  },
  {
   "cell_type": "code",
   "execution_count": 52,
   "id": "9223e85c",
   "metadata": {},
   "outputs": [
    {
     "name": "stdout",
     "output_type": "stream",
     "text": [
      "[ 0 10 20 10  0]\n",
      "[1 2 0 1 2]\n"
     ]
    }
   ],
   "source": [
    "# Modules\n",
    "mod = np.mod(b,a)\n",
    "print(mod)\n",
    "print(a%3)"
   ]
  },
  {
   "cell_type": "code",
   "execution_count": 53,
   "id": "b04aeb86",
   "metadata": {},
   "outputs": [
    {
     "name": "stdout",
     "output_type": "stream",
     "text": [
      "[-972029952 1896873984          0          0          0]\n",
      "[ 100  400  900 1600 2500]\n"
     ]
    }
   ],
   "source": [
    "# Power\n",
    "power = np.power(b,a)\n",
    "print(power)\n",
    "print(a**2)"
   ]
  },
  {
   "cell_type": "code",
   "execution_count": 54,
   "id": "856ba5af",
   "metadata": {},
   "outputs": [
    {
     "name": "stdout",
     "output_type": "stream",
     "text": [
      "[0 0 0 0 0]\n",
      "[0.2        0.1        0.06666667 0.05       0.04      ]\n"
     ]
    }
   ],
   "source": [
    "# Reciprocal\n",
    "reci = np.reciprocal(a)\n",
    "print(reci)\n",
    "print(2/a)"
   ]
  },
  {
   "cell_type": "code",
   "execution_count": 55,
   "id": "979a41d0",
   "metadata": {},
   "outputs": [],
   "source": [
    "# For Two-Dimension Arrays"
   ]
  },
  {
   "cell_type": "code",
   "execution_count": 56,
   "id": "54201afe",
   "metadata": {},
   "outputs": [
    {
     "name": "stdout",
     "output_type": "stream",
     "text": [
      "[[ 4  5  6  7  8]\n",
      " [14 15 16 17 18]]\n",
      "[[ 2  4  6  8 10]\n",
      " [22 24 26 28 30]]\n"
     ]
    }
   ],
   "source": [
    "var21 = np.array([[1,2,3,4,5],[11,12,13,14,15]])\n",
    "var22 = np.array([[1,2,3,4,5],[11,12,13,14,15]])\n",
    "newvar = np.add(var21,var22)\n",
    "var21 = var21 + 3\n",
    "print(var21)\n",
    "print(newvar)"
   ]
  },
  {
   "cell_type": "code",
   "execution_count": 57,
   "id": "37cf0750",
   "metadata": {},
   "outputs": [],
   "source": [
    "# Arithmatic operations "
   ]
  },
  {
   "cell_type": "code",
   "execution_count": 58,
   "id": "0d4dadd6",
   "metadata": {},
   "outputs": [
    {
     "name": "stdout",
     "output_type": "stream",
     "text": [
      "[10 20 30 40 50]\n"
     ]
    }
   ],
   "source": [
    "a = np.array([10,20,30,40,50])\n",
    "print(a)"
   ]
  },
  {
   "cell_type": "code",
   "execution_count": 59,
   "id": "8f8ec756",
   "metadata": {},
   "outputs": [
    {
     "data": {
      "text/plain": [
       "10"
      ]
     },
     "execution_count": 59,
     "metadata": {},
     "output_type": "execute_result"
    }
   ],
   "source": [
    "# Minimum from the array\n",
    "mini = np.min(a)\n",
    "mini"
   ]
  },
  {
   "cell_type": "code",
   "execution_count": 60,
   "id": "bf9ff913",
   "metadata": {},
   "outputs": [
    {
     "data": {
      "text/plain": [
       "50"
      ]
     },
     "execution_count": 60,
     "metadata": {},
     "output_type": "execute_result"
    }
   ],
   "source": [
    "# Maximum number from the Array\n",
    "maxi = np.max(a)\n",
    "maxi"
   ]
  },
  {
   "cell_type": "code",
   "execution_count": 61,
   "id": "0f0a3775",
   "metadata": {},
   "outputs": [
    {
     "name": "stdout",
     "output_type": "stream",
     "text": [
      "3\n",
      "4\n"
     ]
    }
   ],
   "source": [
    "# It is used for findout min/max position in array\n",
    "b = np.array([55,45,62,32,78,65,63])\n",
    "\n",
    "ag = np.argmin(b)\n",
    "\n",
    "ax = np.argmax(b)\n",
    "\n",
    "print(ag)\n",
    "print(ax)"
   ]
  },
  {
   "cell_type": "code",
   "execution_count": 62,
   "id": "76ae57fe",
   "metadata": {},
   "outputs": [
    {
     "data": {
      "text/plain": [
       "array([3.16227766, 4.47213595, 5.47722558, 6.32455532, 7.07106781])"
      ]
     },
     "execution_count": 62,
     "metadata": {},
     "output_type": "execute_result"
    }
   ],
   "source": [
    "# Find out the sqrt of arrays element\n",
    "asqrt = np.sqrt(a)\n",
    "asqrt"
   ]
  },
  {
   "cell_type": "code",
   "execution_count": 63,
   "id": "396e43cd",
   "metadata": {},
   "outputs": [
    {
     "data": {
      "text/plain": [
       "array([-0.54402111,  0.91294525, -0.98803162,  0.74511316, -0.26237485])"
      ]
     },
     "execution_count": 63,
     "metadata": {},
     "output_type": "execute_result"
    }
   ],
   "source": [
    "# Sin value for Array elements\n",
    "sin = np.sin(a)\n",
    "sin"
   ]
  },
  {
   "cell_type": "code",
   "execution_count": 64,
   "id": "dc095bed",
   "metadata": {},
   "outputs": [
    {
     "data": {
      "text/plain": [
       "array([-0.83907153,  0.40808206,  0.15425145, -0.66693806,  0.96496603])"
      ]
     },
     "execution_count": 64,
     "metadata": {},
     "output_type": "execute_result"
    }
   ],
   "source": [
    "# cos values for Array elements\n",
    "cos = np.cos(a)\n",
    "cos"
   ]
  },
  {
   "cell_type": "code",
   "execution_count": 65,
   "id": "be8a5b76",
   "metadata": {},
   "outputs": [
    {
     "data": {
      "text/plain": [
       "array([ 10,  30,  60, 100, 150])"
      ]
     },
     "execution_count": 65,
     "metadata": {},
     "output_type": "execute_result"
    }
   ],
   "source": [
    "# cumsum of elements\n",
    "cs = np.cumsum(a)\n",
    "cs"
   ]
  },
  {
   "cell_type": "code",
   "execution_count": 66,
   "id": "e0f1cc34",
   "metadata": {},
   "outputs": [
    {
     "name": "stdout",
     "output_type": "stream",
     "text": [
      "[[1 2 3 4]\n",
      " [1 2 3 4]]\n",
      "(2, 4)\n"
     ]
    }
   ],
   "source": [
    "# shapes & Reshape of Arrays\n",
    "\n",
    "var = np.array([[1,2,3,4],[1,2,3,4]])\n",
    "print(var)\n",
    "print(var.shape)"
   ]
  },
  {
   "cell_type": "code",
   "execution_count": 67,
   "id": "6eff97cd",
   "metadata": {},
   "outputs": [
    {
     "data": {
      "text/plain": [
       "array([[[[[1, 2, 3, 4, 5]]]]])"
      ]
     },
     "execution_count": 67,
     "metadata": {},
     "output_type": "execute_result"
    }
   ],
   "source": [
    "var1 = np.array([1,2,3,4,5],ndmin = 5)\n",
    "\n",
    "var1"
   ]
  },
  {
   "cell_type": "code",
   "execution_count": 68,
   "id": "896693e2",
   "metadata": {},
   "outputs": [
    {
     "data": {
      "text/plain": [
       "array([[[[1, 2],\n",
       "         [3, 4]],\n",
       "\n",
       "        [[5, 6],\n",
       "         [7, 8]]],\n",
       "\n",
       "\n",
       "       [[[5, 6],\n",
       "         [4, 5]],\n",
       "\n",
       "        [[6, 1],\n",
       "         [2, 3]]]])"
      ]
     },
     "execution_count": 68,
     "metadata": {},
     "output_type": "execute_result"
    }
   ],
   "source": [
    "# Reshape\n",
    "rs = np.array([1,2,3,4,5,6,7,8,5,6,4,5,6,1,2,3])\n",
    "x = rs.reshape(2,2,2,2)\n",
    "x"
   ]
  },
  {
   "cell_type": "code",
   "execution_count": 69,
   "id": "9ac0646a",
   "metadata": {},
   "outputs": [
    {
     "data": {
      "text/plain": [
       "array([1, 2, 3, 4, 5, 6, 7, 8, 5, 6, 4, 5, 6, 1, 2, 3])"
      ]
     },
     "execution_count": 69,
     "metadata": {},
     "output_type": "execute_result"
    }
   ],
   "source": [
    "# Converting the One Dimension Array\n",
    "one = x.reshape(-1)\n",
    "one"
   ]
  },
  {
   "cell_type": "code",
   "execution_count": 70,
   "id": "9ea4a905",
   "metadata": {},
   "outputs": [
    {
     "name": "stdout",
     "output_type": "stream",
     "text": [
      "[1 2 3]\n",
      "[[1]\n",
      " [2]\n",
      " [3]]\n",
      "[[2 3 4]\n",
      " [3 4 5]\n",
      " [4 5 6]]\n"
     ]
    }
   ],
   "source": [
    "# Boardcasting in numpy\n",
    "p = np.array([1,2,3])\n",
    "q = np.array([[1],[2],[3]])\n",
    "print(p)\n",
    "print(q)\n",
    "r = p+q\n",
    "print(r)"
   ]
  },
  {
   "cell_type": "code",
   "execution_count": 71,
   "id": "49ac8808",
   "metadata": {
    "scrolled": true
   },
   "outputs": [
    {
     "name": "stdout",
     "output_type": "stream",
     "text": [
      "[[1 2 3]\n",
      " [4 5 6]]\n",
      "[[1]\n",
      " [2]]\n"
     ]
    }
   ],
   "source": [
    "x = np.array([1,2,3,4,5,6])\n",
    "x = x.reshape(2,3)\n",
    "y = np.array([1,2])\n",
    "y = y.reshape(2,1)\n",
    "print(x)\n",
    "print(y)"
   ]
  },
  {
   "cell_type": "code",
   "execution_count": 72,
   "id": "f6f4e491",
   "metadata": {},
   "outputs": [
    {
     "name": "stdout",
     "output_type": "stream",
     "text": [
      "[[2 3 4]\n",
      " [6 7 8]]\n"
     ]
    }
   ],
   "source": [
    "print(x + y)"
   ]
  },
  {
   "cell_type": "code",
   "execution_count": 73,
   "id": "7d748e91",
   "metadata": {},
   "outputs": [],
   "source": [
    "# Indexing"
   ]
  },
  {
   "cell_type": "code",
   "execution_count": 74,
   "id": "50a506a6",
   "metadata": {},
   "outputs": [
    {
     "name": "stdout",
     "output_type": "stream",
     "text": [
      "1\n",
      "5\n",
      "4\n"
     ]
    }
   ],
   "source": [
    "# 1D\n",
    "var = np.array([1,2,3,4,5,6])\n",
    "print(var[0])\n",
    "print(var[-2])\n",
    "print(var[3])"
   ]
  },
  {
   "cell_type": "code",
   "execution_count": 75,
   "id": "11b62e62",
   "metadata": {},
   "outputs": [
    {
     "name": "stdout",
     "output_type": "stream",
     "text": [
      "3\n",
      "6\n",
      "8\n"
     ]
    }
   ],
   "source": [
    "# 2D\n",
    "var2 = np.array([[1,2,3,4],[5,6,7,8]])\n",
    "print(var2[0,2])\n",
    "print(var2[1][1])\n",
    "print(var2[-1][-1])"
   ]
  },
  {
   "cell_type": "code",
   "execution_count": 76,
   "id": "fddbe9ad",
   "metadata": {},
   "outputs": [
    {
     "name": "stdout",
     "output_type": "stream",
     "text": [
      "[[[ 1  4  9]\n",
      "  [ 7  5  3]]\n",
      "\n",
      " [[45  8  5]\n",
      "  [ 7 85  6]]]\n",
      "45\n",
      "7\n",
      "5\n"
     ]
    }
   ],
   "source": [
    "# 3D\n",
    "var3 = np.array([[[1,4,9],[7,5,3]],[[45,8,5],[7,85,6]]])\n",
    "print(var3)\n",
    "print(var3[1,0,0])\n",
    "print(var3[1,1,0])\n",
    "print(var3[0,1,1])"
   ]
  },
  {
   "cell_type": "code",
   "execution_count": 77,
   "id": "08700e39",
   "metadata": {},
   "outputs": [
    {
     "name": "stdout",
     "output_type": "stream",
     "text": [
      "[1 2 3 4]\n",
      "[2 3 4 5]\n",
      "[6 5 4 3]\n"
     ]
    }
   ],
   "source": [
    "# 1D Slicing\n",
    "\n",
    "print(var[0:4])\n",
    "print(var[1:-1])\n",
    "print(var[-1:-5:-1])"
   ]
  },
  {
   "cell_type": "code",
   "execution_count": 78,
   "id": "2880db4c",
   "metadata": {},
   "outputs": [
    {
     "name": "stdout",
     "output_type": "stream",
     "text": [
      "[[1 2 3 4]\n",
      " [5 6 7 8]]\n",
      "[6]\n",
      "[3]\n",
      "[8 7 6 5]\n"
     ]
    }
   ],
   "source": [
    "# 2D Slicing\n",
    "\n",
    "print(var2)\n",
    "print(var2[1,1:2])\n",
    "print(var2[0,2::2])\n",
    "print(var2[1,4::-1])"
   ]
  },
  {
   "cell_type": "code",
   "execution_count": 79,
   "id": "8dc2ba4e",
   "metadata": {},
   "outputs": [
    {
     "name": "stdout",
     "output_type": "stream",
     "text": [
      "[[[ 1  4  9]\n",
      "  [ 7  5  3]]\n",
      "\n",
      " [[45  8  5]\n",
      "  [ 7 85  6]]]\n",
      "[5 3]\n",
      "85\n",
      "[45]\n"
     ]
    }
   ],
   "source": [
    "# 3D Slicing\n",
    "\n",
    "print(var3)\n",
    "print(var3[0,1,1:])\n",
    "print(var3[1,1,1])\n",
    "print(var3[1,0,0:1])"
   ]
  },
  {
   "cell_type": "code",
   "execution_count": 80,
   "id": "42748b1c",
   "metadata": {},
   "outputs": [
    {
     "name": "stdout",
     "output_type": "stream",
     "text": [
      "9\n",
      "7\n",
      "8\n",
      "4\n",
      "6\n",
      "5\n",
      "3\n",
      "1\n",
      "2\n"
     ]
    }
   ],
   "source": [
    "# Iterating the Numpy\n",
    "x = [9,7,8,4,6,5,3,1,2]\n",
    "for i in x:\n",
    "    print(i)"
   ]
  },
  {
   "cell_type": "code",
   "execution_count": 81,
   "id": "f2568723",
   "metadata": {},
   "outputs": [
    {
     "name": "stdout",
     "output_type": "stream",
     "text": [
      "1\n",
      "2\n",
      "3\n",
      "4\n",
      "5\n",
      "6\n",
      "7\n",
      "8\n"
     ]
    }
   ],
   "source": [
    "for x in var2:\n",
    "    for m in x:\n",
    "        print(m)"
   ]
  },
  {
   "cell_type": "code",
   "execution_count": 82,
   "id": "f445ac76",
   "metadata": {},
   "outputs": [
    {
     "name": "stdout",
     "output_type": "stream",
     "text": [
      "1\n",
      "2\n",
      "3\n",
      "4\n",
      "5\n",
      "6\n",
      "7\n",
      "8\n"
     ]
    }
   ],
   "source": [
    "for i in np.nditer(var2):\n",
    "    print(i)"
   ]
  },
  {
   "cell_type": "code",
   "execution_count": 83,
   "id": "53cbd04a",
   "metadata": {},
   "outputs": [
    {
     "name": "stdout",
     "output_type": "stream",
     "text": [
      "1\n",
      "4\n",
      "9\n",
      "7\n",
      "5\n",
      "3\n",
      "45\n",
      "8\n",
      "5\n",
      "7\n",
      "85\n",
      "6\n"
     ]
    }
   ],
   "source": [
    "for v in var3:\n",
    "    for s in v:\n",
    "        for w in s:\n",
    "            print(w)\n"
   ]
  },
  {
   "cell_type": "code",
   "execution_count": 84,
   "id": "e1d9bae4",
   "metadata": {},
   "outputs": [
    {
     "name": "stdout",
     "output_type": "stream",
     "text": [
      "1\n",
      "4\n",
      "9\n",
      "7\n",
      "5\n",
      "3\n",
      "45\n",
      "8\n",
      "5\n",
      "7\n",
      "85\n",
      "6\n"
     ]
    }
   ],
   "source": [
    "for i in np.nditer(var3,flags = [\"buffered\"],op_dtypes=[\"l\"]):\n",
    "    print(i)"
   ]
  },
  {
   "cell_type": "code",
   "execution_count": 85,
   "id": "444cbfcf",
   "metadata": {},
   "outputs": [],
   "source": [
    "# Copy and view"
   ]
  },
  {
   "cell_type": "code",
   "execution_count": 86,
   "id": "53d4756e",
   "metadata": {},
   "outputs": [
    {
     "name": "stdout",
     "output_type": "stream",
     "text": [
      "[71  5  3  1  5  9]\n",
      "[7 5 3 1 5 9]\n"
     ]
    }
   ],
   "source": [
    "a = np.array([7,5,3,1,5,9])\n",
    "c = np.copy(a)\n",
    "c[0]=71\n",
    "print(c)\n",
    "print(a)"
   ]
  },
  {
   "cell_type": "code",
   "execution_count": 87,
   "id": "584da462",
   "metadata": {},
   "outputs": [
    {
     "name": "stdout",
     "output_type": "stream",
     "text": [
      "[40  5  6  2  5  8]\n",
      "[40  5  6  2  5  8]\n"
     ]
    }
   ],
   "source": [
    "b = np.array([4,5,6,2,5,8])\n",
    "v = b.view()\n",
    "v[0]=40\n",
    "print(b)\n",
    "print(v)"
   ]
  },
  {
   "cell_type": "code",
   "execution_count": 88,
   "id": "364785d3",
   "metadata": {},
   "outputs": [
    {
     "name": "stdout",
     "output_type": "stream",
     "text": [
      "[10  4  7  8  9  6]\n",
      "[10  4  7  8  9  6]\n"
     ]
    }
   ],
   "source": [
    "d = np.array([1,4,7,8,9,6])\n",
    "s = d\n",
    "s[0] = 10\n",
    "print(d)\n",
    "print(s)"
   ]
  },
  {
   "cell_type": "code",
   "execution_count": 89,
   "id": "2cb858e5",
   "metadata": {},
   "outputs": [],
   "source": [
    "# Join Array"
   ]
  },
  {
   "cell_type": "code",
   "execution_count": 90,
   "id": "1952f47f",
   "metadata": {},
   "outputs": [
    {
     "data": {
      "text/plain": [
       "array([7, 5, 3, 1, 5, 9, 5, 6, 7, 8])"
      ]
     },
     "execution_count": 90,
     "metadata": {},
     "output_type": "execute_result"
    }
   ],
   "source": [
    "# 1D\n",
    "qw = np.concatenate((a,x),axis = 0)\n",
    "qw"
   ]
  },
  {
   "cell_type": "code",
   "execution_count": 91,
   "id": "7d78b9fd",
   "metadata": {},
   "outputs": [
    {
     "name": "stdout",
     "output_type": "stream",
     "text": [
      "[[1 2 5 5]\n",
      " [8 6 2 5]]\n",
      "[[1 2 3 4]\n",
      " [5 6 7 8]]\n"
     ]
    }
   ],
   "source": [
    "b2 = np.array([[1,2,5,5],[8,6,2,5]])\n",
    "print(b2)\n",
    "print(var2)"
   ]
  },
  {
   "cell_type": "code",
   "execution_count": 92,
   "id": "494309a7",
   "metadata": {},
   "outputs": [
    {
     "data": {
      "text/plain": [
       "array([[1, 2, 3, 4, 1, 2, 5, 5],\n",
       "       [5, 6, 7, 8, 8, 6, 2, 5]])"
      ]
     },
     "execution_count": 92,
     "metadata": {},
     "output_type": "execute_result"
    }
   ],
   "source": [
    "w = np.concatenate((var2,b2),axis = 1)\n",
    "w"
   ]
  },
  {
   "cell_type": "code",
   "execution_count": 93,
   "id": "e3b1c83c",
   "metadata": {},
   "outputs": [
    {
     "name": "stdout",
     "output_type": "stream",
     "text": [
      "[[[ 1  4  9]\n",
      "  [ 7  5  3]]\n",
      "\n",
      " [[45  8  5]\n",
      "  [ 7 85  6]]]\n"
     ]
    }
   ],
   "source": [
    "print(var3)"
   ]
  },
  {
   "cell_type": "code",
   "execution_count": 94,
   "id": "2f39c06a",
   "metadata": {},
   "outputs": [
    {
     "data": {
      "text/plain": [
       "array([[[1, 2, 6],\n",
       "        [4, 5, 8]],\n",
       "\n",
       "       [[7, 8, 1],\n",
       "        [8, 9, 7]]])"
      ]
     },
     "execution_count": 94,
     "metadata": {},
     "output_type": "execute_result"
    }
   ],
   "source": [
    "b3 = np.array([[[1,2,6],[4,5,8]],[[7,8,1],[8,9,7]]])\n",
    "b3"
   ]
  },
  {
   "cell_type": "code",
   "execution_count": 95,
   "id": "2525b857",
   "metadata": {},
   "outputs": [
    {
     "data": {
      "text/plain": [
       "array([[[ 1,  4,  9],\n",
       "        [ 7,  5,  3]],\n",
       "\n",
       "       [[45,  8,  5],\n",
       "        [ 7, 85,  6]],\n",
       "\n",
       "       [[ 1,  2,  6],\n",
       "        [ 4,  5,  8]],\n",
       "\n",
       "       [[ 7,  8,  1],\n",
       "        [ 8,  9,  7]]])"
      ]
     },
     "execution_count": 95,
     "metadata": {},
     "output_type": "execute_result"
    }
   ],
   "source": [
    "we = np.concatenate((var3,b3),axis = 0)\n",
    "we"
   ]
  },
  {
   "cell_type": "code",
   "execution_count": 96,
   "id": "830aed38",
   "metadata": {},
   "outputs": [
    {
     "data": {
      "text/plain": [
       "array([[[[ 1,  4,  9],\n",
       "         [ 7,  5,  3]],\n",
       "\n",
       "        [[45,  8,  5],\n",
       "         [ 7, 85,  6]]],\n",
       "\n",
       "\n",
       "       [[[ 1,  2,  6],\n",
       "         [ 4,  5,  8]],\n",
       "\n",
       "        [[ 7,  8,  1],\n",
       "         [ 8,  9,  7]]]])"
      ]
     },
     "execution_count": 96,
     "metadata": {},
     "output_type": "execute_result"
    }
   ],
   "source": [
    "fg= np.stack((var3,b3)) # Works as Vstack\n",
    "fg"
   ]
  },
  {
   "cell_type": "code",
   "execution_count": 97,
   "id": "a8e5e8bd",
   "metadata": {},
   "outputs": [
    {
     "data": {
      "text/plain": [
       "array([[[ 1,  4,  9],\n",
       "        [ 7,  5,  3],\n",
       "        [ 1,  2,  6],\n",
       "        [ 4,  5,  8]],\n",
       "\n",
       "       [[45,  8,  5],\n",
       "        [ 7, 85,  6],\n",
       "        [ 7,  8,  1],\n",
       "        [ 8,  9,  7]]])"
      ]
     },
     "execution_count": 97,
     "metadata": {},
     "output_type": "execute_result"
    }
   ],
   "source": [
    "fgh= np.hstack((var3,b3)) # Works as Hstack\n",
    "fgh"
   ]
  },
  {
   "cell_type": "code",
   "execution_count": 98,
   "id": "b54c6d8c",
   "metadata": {},
   "outputs": [
    {
     "data": {
      "text/plain": [
       "array([[[ 1,  4,  9,  1,  2,  6],\n",
       "        [ 7,  5,  3,  4,  5,  8]],\n",
       "\n",
       "       [[45,  8,  5,  7,  8,  1],\n",
       "        [ 7, 85,  6,  8,  9,  7]]])"
      ]
     },
     "execution_count": 98,
     "metadata": {},
     "output_type": "execute_result"
    }
   ],
   "source": [
    "fgd= np.dstack((var3,b3)) # Works as Vstack\n",
    "fgd"
   ]
  },
  {
   "cell_type": "code",
   "execution_count": 99,
   "id": "fdcfaabf",
   "metadata": {},
   "outputs": [],
   "source": [
    "# Splitting Array"
   ]
  },
  {
   "cell_type": "code",
   "execution_count": 100,
   "id": "30026807",
   "metadata": {},
   "outputs": [
    {
     "data": {
      "text/plain": [
       "array([7, 5, 3, 1, 5, 9])"
      ]
     },
     "execution_count": 100,
     "metadata": {},
     "output_type": "execute_result"
    }
   ],
   "source": [
    "a"
   ]
  },
  {
   "cell_type": "code",
   "execution_count": 101,
   "id": "bc7fc5e0",
   "metadata": {},
   "outputs": [
    {
     "data": {
      "text/plain": [
       "[array([7]),\n",
       " array([5]),\n",
       " array([3]),\n",
       " array([1]),\n",
       " array([5]),\n",
       " array([9]),\n",
       " array([], dtype=int32)]"
      ]
     },
     "execution_count": 101,
     "metadata": {},
     "output_type": "execute_result"
    }
   ],
   "source": [
    "f = np.array_split(a,7)\n",
    "f"
   ]
  },
  {
   "cell_type": "code",
   "execution_count": 102,
   "id": "1aa3218b",
   "metadata": {},
   "outputs": [
    {
     "data": {
      "text/plain": [
       "[array([[1, 2],\n",
       "        [5, 6]]),\n",
       " array([[3],\n",
       "        [7]]),\n",
       " array([[4],\n",
       "        [8]])]"
      ]
     },
     "execution_count": 102,
     "metadata": {},
     "output_type": "execute_result"
    }
   ],
   "source": [
    "f2 = np.array_split(var2,3,axis = 1)\n",
    "f2"
   ]
  },
  {
   "cell_type": "code",
   "execution_count": 103,
   "id": "d12a762e",
   "metadata": {
    "scrolled": true
   },
   "outputs": [
    {
     "data": {
      "text/plain": [
       "[array([[[ 1],\n",
       "         [ 7]],\n",
       " \n",
       "        [[45],\n",
       "         [ 7]]]),\n",
       " array([[[ 4],\n",
       "         [ 5]],\n",
       " \n",
       "        [[ 8],\n",
       "         [85]]]),\n",
       " array([[[9],\n",
       "         [3]],\n",
       " \n",
       "        [[5],\n",
       "         [6]]])]"
      ]
     },
     "execution_count": 103,
     "metadata": {},
     "output_type": "execute_result"
    }
   ],
   "source": [
    "f3 = np.array_split(var3,3,axis = 2)\n",
    "f3"
   ]
  },
  {
   "cell_type": "code",
   "execution_count": 104,
   "id": "2ae3311a",
   "metadata": {},
   "outputs": [],
   "source": [
    "# Searching"
   ]
  },
  {
   "cell_type": "code",
   "execution_count": 105,
   "id": "6d4d0563",
   "metadata": {},
   "outputs": [],
   "source": [
    "var = np.array([1,2,5,3,1,2,4,25,5,7,2,8,6,25,4,2,8,1])"
   ]
  },
  {
   "cell_type": "code",
   "execution_count": 106,
   "id": "c5e43c33",
   "metadata": {},
   "outputs": [
    {
     "data": {
      "text/plain": [
       "(array([ 0,  4, 17], dtype=int64),)"
      ]
     },
     "execution_count": 106,
     "metadata": {},
     "output_type": "execute_result"
    }
   ],
   "source": [
    "z = np.where(var == 1)\n",
    "z"
   ]
  },
  {
   "cell_type": "code",
   "execution_count": 107,
   "id": "5cf41691",
   "metadata": {},
   "outputs": [
    {
     "data": {
      "text/plain": [
       "(array([ 1,  5,  6, 10, 11, 12, 14, 15, 16], dtype=int64),)"
      ]
     },
     "execution_count": 107,
     "metadata": {},
     "output_type": "execute_result"
    }
   ],
   "source": [
    "x = np.where(var%2 == 0)\n",
    "x"
   ]
  },
  {
   "cell_type": "code",
   "execution_count": 108,
   "id": "f17d5944",
   "metadata": {},
   "outputs": [
    {
     "data": {
      "text/plain": [
       "(array([ 7, 13], dtype=int64),)"
      ]
     },
     "execution_count": 108,
     "metadata": {},
     "output_type": "execute_result"
    }
   ],
   "source": [
    "y = np.where(var == 25)\n",
    "y"
   ]
  },
  {
   "cell_type": "code",
   "execution_count": 109,
   "id": "2e96325e",
   "metadata": {},
   "outputs": [],
   "source": [
    "# Search Sort array"
   ]
  },
  {
   "cell_type": "code",
   "execution_count": 110,
   "id": "02997548",
   "metadata": {},
   "outputs": [
    {
     "data": {
      "text/plain": [
       "array([1, 3, 5, 7, 9])"
      ]
     },
     "execution_count": 110,
     "metadata": {},
     "output_type": "execute_result"
    }
   ],
   "source": [
    "so = np.arange(1,10,2)\n",
    "so"
   ]
  },
  {
   "cell_type": "code",
   "execution_count": 111,
   "id": "6aeade10",
   "metadata": {},
   "outputs": [
    {
     "data": {
      "text/plain": [
       "array([5, 0, 2], dtype=int64)"
      ]
     },
     "execution_count": 111,
     "metadata": {},
     "output_type": "execute_result"
    }
   ],
   "source": [
    "x1 = np.searchsorted(so,[10,1,5])\n",
    "x1"
   ]
  },
  {
   "cell_type": "code",
   "execution_count": 112,
   "id": "55052b2a",
   "metadata": {},
   "outputs": [
    {
     "data": {
      "text/plain": [
       "array([7, 5, 3, 1, 5, 9])"
      ]
     },
     "execution_count": 112,
     "metadata": {},
     "output_type": "execute_result"
    }
   ],
   "source": [
    "a"
   ]
  },
  {
   "cell_type": "code",
   "execution_count": 113,
   "id": "50c9134a",
   "metadata": {},
   "outputs": [
    {
     "data": {
      "text/plain": [
       "array([1, 3, 5, 5, 7, 9])"
      ]
     },
     "execution_count": 113,
     "metadata": {},
     "output_type": "execute_result"
    }
   ],
   "source": [
    "z = np.sort(a)\n",
    "z"
   ]
  },
  {
   "cell_type": "code",
   "execution_count": 114,
   "id": "5646e782",
   "metadata": {},
   "outputs": [
    {
     "data": {
      "text/plain": [
       "array(['a', 'd', 's'], dtype='<U1')"
      ]
     },
     "execution_count": 114,
     "metadata": {},
     "output_type": "execute_result"
    }
   ],
   "source": [
    "s = np.array([\"a\",\"s\",\"d\"])\n",
    "x = np.sort(s)\n",
    "x"
   ]
  },
  {
   "cell_type": "code",
   "execution_count": 115,
   "id": "dc80031c",
   "metadata": {},
   "outputs": [
    {
     "data": {
      "text/plain": [
       "array([[1, 2, 3, 4],\n",
       "       [5, 6, 7, 8]])"
      ]
     },
     "execution_count": 115,
     "metadata": {},
     "output_type": "execute_result"
    }
   ],
   "source": [
    "np.sort(var2)"
   ]
  },
  {
   "cell_type": "code",
   "execution_count": 116,
   "id": "b5e404c7",
   "metadata": {},
   "outputs": [
    {
     "data": {
      "text/plain": [
       "array([[[ 1,  4,  9],\n",
       "        [ 3,  5,  7]],\n",
       "\n",
       "       [[ 5,  8, 45],\n",
       "        [ 6,  7, 85]]])"
      ]
     },
     "execution_count": 116,
     "metadata": {},
     "output_type": "execute_result"
    }
   ],
   "source": [
    "np.sort(var3)"
   ]
  },
  {
   "cell_type": "code",
   "execution_count": 117,
   "id": "906c3f66",
   "metadata": {},
   "outputs": [],
   "source": [
    "# Filter"
   ]
  },
  {
   "cell_type": "code",
   "execution_count": 118,
   "id": "9dd841ae",
   "metadata": {},
   "outputs": [
    {
     "data": {
      "text/plain": [
       "array(['a', 's', 'd'], dtype='<U1')"
      ]
     },
     "execution_count": 118,
     "metadata": {},
     "output_type": "execute_result"
    }
   ],
   "source": [
    "s"
   ]
  },
  {
   "cell_type": "code",
   "execution_count": 119,
   "id": "b8222984",
   "metadata": {},
   "outputs": [
    {
     "data": {
      "text/plain": [
       "array(['a', 'd'], dtype='<U1')"
      ]
     },
     "execution_count": 119,
     "metadata": {},
     "output_type": "execute_result"
    }
   ],
   "source": [
    "f = [True,False,True]\n",
    "n = s[f]\n",
    "n"
   ]
  },
  {
   "cell_type": "code",
   "execution_count": 120,
   "id": "b7e16426",
   "metadata": {},
   "outputs": [],
   "source": [
    "# Shuffle"
   ]
  },
  {
   "cell_type": "code",
   "execution_count": 121,
   "id": "7d12dfb2",
   "metadata": {},
   "outputs": [],
   "source": [
    "suf = np.array([1,2,3,4,5])\n",
    "np.random.shuffle(suf)"
   ]
  },
  {
   "cell_type": "code",
   "execution_count": 122,
   "id": "44b8ffed",
   "metadata": {},
   "outputs": [
    {
     "data": {
      "text/plain": [
       "array([2, 5, 3, 1, 4])"
      ]
     },
     "execution_count": 122,
     "metadata": {},
     "output_type": "execute_result"
    }
   ],
   "source": [
    "suf"
   ]
  },
  {
   "cell_type": "code",
   "execution_count": 123,
   "id": "56cdb343",
   "metadata": {},
   "outputs": [],
   "source": [
    "# Uniqe"
   ]
  },
  {
   "cell_type": "code",
   "execution_count": 124,
   "id": "c7b79bd1",
   "metadata": {},
   "outputs": [
    {
     "data": {
      "text/plain": [
       "array([ 1,  2,  5,  3,  1,  2,  4, 25,  5,  7,  2,  8,  6, 25,  4,  2,  8,\n",
       "        1])"
      ]
     },
     "execution_count": 124,
     "metadata": {},
     "output_type": "execute_result"
    }
   ],
   "source": [
    "var"
   ]
  },
  {
   "cell_type": "code",
   "execution_count": 125,
   "id": "5f26ea52",
   "metadata": {},
   "outputs": [
    {
     "data": {
      "text/plain": [
       "(array([ 1,  2,  3,  4,  5,  6,  7,  8, 25]),\n",
       " array([ 0,  1,  3,  6,  2, 12,  9, 11,  7], dtype=int64),\n",
       " array([3, 4, 1, 2, 2, 1, 1, 2, 2], dtype=int64))"
      ]
     },
     "execution_count": 125,
     "metadata": {},
     "output_type": "execute_result"
    }
   ],
   "source": [
    "x = np.unique(var,return_index = True,return_counts=True)\n",
    "x"
   ]
  },
  {
   "cell_type": "code",
   "execution_count": 126,
   "id": "bdab36d6",
   "metadata": {},
   "outputs": [],
   "source": [
    "# Resizing"
   ]
  },
  {
   "cell_type": "code",
   "execution_count": 127,
   "id": "995fe701",
   "metadata": {},
   "outputs": [
    {
     "name": "stdout",
     "output_type": "stream",
     "text": [
      "[[[ 1]\n",
      "  [ 2]\n",
      "  [ 5]]\n",
      "\n",
      " [[ 3]\n",
      "  [ 1]\n",
      "  [ 2]]\n",
      "\n",
      " [[ 4]\n",
      "  [25]\n",
      "  [ 5]]\n",
      "\n",
      " [[ 7]\n",
      "  [ 2]\n",
      "  [ 8]]\n",
      "\n",
      " [[ 6]\n",
      "  [25]\n",
      "  [ 4]]\n",
      "\n",
      " [[ 2]\n",
      "  [ 8]\n",
      "  [ 1]]]\n"
     ]
    }
   ],
   "source": [
    "rp = var.reshape(6,3,1)\n",
    "print(rp)\n"
   ]
  },
  {
   "cell_type": "code",
   "execution_count": 128,
   "id": "997b1d3c",
   "metadata": {},
   "outputs": [
    {
     "data": {
      "text/plain": [
       "18"
      ]
     },
     "execution_count": 128,
     "metadata": {},
     "output_type": "execute_result"
    }
   ],
   "source": [
    "len(var)"
   ]
  },
  {
   "cell_type": "code",
   "execution_count": 129,
   "id": "53740297",
   "metadata": {},
   "outputs": [
    {
     "name": "stdout",
     "output_type": "stream",
     "text": [
      "[[[ 1]\n",
      "  [ 2]\n",
      "  [ 5]]\n",
      "\n",
      " [[ 3]\n",
      "  [ 1]\n",
      "  [ 2]]\n",
      "\n",
      " [[ 4]\n",
      "  [25]\n",
      "  [ 5]]\n",
      "\n",
      " [[ 7]\n",
      "  [ 2]\n",
      "  [ 8]]\n",
      "\n",
      " [[ 6]\n",
      "  [25]\n",
      "  [ 4]]\n",
      "\n",
      " [[ 2]\n",
      "  [ 8]\n",
      "  [ 1]]]\n"
     ]
    }
   ],
   "source": [
    "rz = np.resize(var,(6,3,1))\n",
    "print(rz)"
   ]
  },
  {
   "cell_type": "code",
   "execution_count": 130,
   "id": "0cd2a432",
   "metadata": {},
   "outputs": [],
   "source": [
    "# Flatten"
   ]
  },
  {
   "cell_type": "code",
   "execution_count": 131,
   "id": "54ea7643",
   "metadata": {},
   "outputs": [
    {
     "name": "stdout",
     "output_type": "stream",
     "text": [
      "[ 1  2  5  3  1  2  4 25  5  7  2  8  6 25  4  2  8  1]\n"
     ]
    }
   ],
   "source": [
    "print(rz.flatten())"
   ]
  },
  {
   "cell_type": "code",
   "execution_count": 132,
   "id": "6133eb9f",
   "metadata": {},
   "outputs": [],
   "source": [
    "# Ravel"
   ]
  },
  {
   "cell_type": "code",
   "execution_count": 133,
   "id": "bb6f7100",
   "metadata": {},
   "outputs": [
    {
     "name": "stdout",
     "output_type": "stream",
     "text": [
      "[ 1  2  5  3  1  2  4 25  5  7  2  8  6 25  4  2  8  1]\n"
     ]
    }
   ],
   "source": [
    "print(np.ravel(rz))"
   ]
  },
  {
   "cell_type": "code",
   "execution_count": 134,
   "id": "b6d95d53",
   "metadata": {},
   "outputs": [],
   "source": [
    "# Insertion, Update and delation"
   ]
  },
  {
   "cell_type": "code",
   "execution_count": 135,
   "id": "b47e85bd",
   "metadata": {},
   "outputs": [
    {
     "data": {
      "text/plain": [
       "array([ 1,  2,  5,  3,  1,  2,  4, 25,  5,  7,  2,  8,  6, 25,  4,  2,  8,\n",
       "        1])"
      ]
     },
     "execution_count": 135,
     "metadata": {},
     "output_type": "execute_result"
    }
   ],
   "source": [
    "var"
   ]
  },
  {
   "cell_type": "code",
   "execution_count": 136,
   "id": "f7dc3b5e",
   "metadata": {},
   "outputs": [
    {
     "data": {
      "text/plain": [
       "array([100,   1,   2,   5, 100,   3,   1,   2,   4,  25,   5,   7,   2,\n",
       "         8,   6,  25,   4,   2,   8,   1])"
      ]
     },
     "execution_count": 136,
     "metadata": {},
     "output_type": "execute_result"
    }
   ],
   "source": [
    "np.insert(var,(0,3),100)"
   ]
  },
  {
   "cell_type": "code",
   "execution_count": 137,
   "id": "d2f0b25d",
   "metadata": {},
   "outputs": [
    {
     "data": {
      "text/plain": [
       "array([[1, 2, 3, 4],\n",
       "       [5, 6, 7, 8]])"
      ]
     },
     "execution_count": 137,
     "metadata": {},
     "output_type": "execute_result"
    }
   ],
   "source": [
    "var2"
   ]
  },
  {
   "cell_type": "code",
   "execution_count": 138,
   "id": "65fec9d4",
   "metadata": {},
   "outputs": [
    {
     "data": {
      "text/plain": [
       "array([[100,  14,   1,   5],\n",
       "       [  1,   2,   3,   4],\n",
       "       [  5,   6,   7,   8],\n",
       "       [100,  14,   1,   5]])"
      ]
     },
     "execution_count": 138,
     "metadata": {},
     "output_type": "execute_result"
    }
   ],
   "source": [
    "np.insert(var2,(0,2),[100,14,1,5],axis = 0)"
   ]
  },
  {
   "cell_type": "code",
   "execution_count": 139,
   "id": "c73230fe",
   "metadata": {},
   "outputs": [
    {
     "data": {
      "text/plain": [
       "array([[[ 1,  4,  9],\n",
       "        [ 7,  5,  3]],\n",
       "\n",
       "       [[45,  8,  5],\n",
       "        [ 7, 85,  6]]])"
      ]
     },
     "execution_count": 139,
     "metadata": {},
     "output_type": "execute_result"
    }
   ],
   "source": [
    "var3"
   ]
  },
  {
   "cell_type": "code",
   "execution_count": 140,
   "id": "209c3ab2",
   "metadata": {},
   "outputs": [
    {
     "data": {
      "text/plain": [
       "array([[[ 1, 85,  4, 45, 45,  9],\n",
       "        [ 7, 85,  5, 45, 45,  3]],\n",
       "\n",
       "       [[45, 85,  8, 45, 45,  5],\n",
       "        [ 7, 85, 85, 45, 45,  6]]])"
      ]
     },
     "execution_count": 140,
     "metadata": {},
     "output_type": "execute_result"
    }
   ],
   "source": [
    "np.insert(var3,(2,2,1),[45,45,85],axis = 2)"
   ]
  },
  {
   "cell_type": "code",
   "execution_count": 141,
   "id": "67575d7d",
   "metadata": {},
   "outputs": [],
   "source": [
    "# Append"
   ]
  },
  {
   "cell_type": "code",
   "execution_count": 142,
   "id": "0ceb51f3",
   "metadata": {},
   "outputs": [],
   "source": [
    "x = np.append(var,6.5)"
   ]
  },
  {
   "cell_type": "code",
   "execution_count": 143,
   "id": "d70fb410",
   "metadata": {},
   "outputs": [
    {
     "data": {
      "text/plain": [
       "array([ 1. ,  2. ,  5. ,  3. ,  1. ,  2. ,  4. , 25. ,  5. ,  7. ,  2. ,\n",
       "        8. ,  6. , 25. ,  4. ,  2. ,  8. ,  1. ,  6.5])"
      ]
     },
     "execution_count": 143,
     "metadata": {},
     "output_type": "execute_result"
    }
   ],
   "source": [
    "x"
   ]
  },
  {
   "cell_type": "code",
   "execution_count": 144,
   "id": "a3d79da1",
   "metadata": {},
   "outputs": [
    {
     "name": "stdout",
     "output_type": "stream",
     "text": [
      "(array([[1, 2, 3, 4],\n",
      "       [5, 6, 7, 8],\n",
      "       [1, 2, 3, 4]]),)\n"
     ]
    },
    {
     "data": {
      "text/plain": [
       "(None,)"
      ]
     },
     "execution_count": 144,
     "metadata": {},
     "output_type": "execute_result"
    }
   ],
   "source": [
    "y = np.append(var2, [[1,2,3,4]], axis=0),\n",
    "print(y),"
   ]
  },
  {
   "cell_type": "code",
   "execution_count": 145,
   "id": "791590b1",
   "metadata": {},
   "outputs": [],
   "source": [
    "# z = np.append(var3,([[1],[2],[3]]),axis = 1)"
   ]
  },
  {
   "cell_type": "code",
   "execution_count": 146,
   "id": "45875d26",
   "metadata": {},
   "outputs": [],
   "source": [
    "# Delation"
   ]
  },
  {
   "cell_type": "code",
   "execution_count": 147,
   "id": "4acd8d8e",
   "metadata": {},
   "outputs": [
    {
     "data": {
      "text/plain": [
       "array([ 1,  2,  5,  3,  1,  2,  4, 25,  5,  7,  2,  8,  6, 25,  4,  2,  8,\n",
       "        1])"
      ]
     },
     "execution_count": 147,
     "metadata": {},
     "output_type": "execute_result"
    }
   ],
   "source": [
    "var"
   ]
  },
  {
   "cell_type": "code",
   "execution_count": 148,
   "id": "472f315b",
   "metadata": {},
   "outputs": [
    {
     "data": {
      "text/plain": [
       "array([ 1,  2,  5,  1, 25,  5,  7,  2,  8,  6, 25,  4,  2,  8,  1])"
      ]
     },
     "execution_count": 148,
     "metadata": {},
     "output_type": "execute_result"
    }
   ],
   "source": [
    "d = np.delete(var,[3,5,6])\n",
    "d"
   ]
  },
  {
   "cell_type": "code",
   "execution_count": 149,
   "id": "3606ba97",
   "metadata": {},
   "outputs": [
    {
     "data": {
      "text/plain": [
       "array([[1, 4],\n",
       "       [5, 8]])"
      ]
     },
     "execution_count": 149,
     "metadata": {},
     "output_type": "execute_result"
    }
   ],
   "source": [
    "d2 = np.delete(var2,[1,2],axis = 1)\n",
    "d2"
   ]
  },
  {
   "cell_type": "code",
   "execution_count": 150,
   "id": "657c0a19",
   "metadata": {},
   "outputs": [
    {
     "data": {
      "text/plain": [
       "array([[1, 2, 3, 4],\n",
       "       [5, 6, 7, 8]])"
      ]
     },
     "execution_count": 150,
     "metadata": {},
     "output_type": "execute_result"
    }
   ],
   "source": [
    "var2"
   ]
  }
 ],
 "metadata": {
  "kernelspec": {
   "display_name": "Python 3 (ipykernel)",
   "language": "python",
   "name": "python3"
  },
  "language_info": {
   "codemirror_mode": {
    "name": "ipython",
    "version": 3
   },
   "file_extension": ".py",
   "mimetype": "text/x-python",
   "name": "python",
   "nbconvert_exporter": "python",
   "pygments_lexer": "ipython3",
   "version": "3.11.5"
  }
 },
 "nbformat": 4,
 "nbformat_minor": 5
}
